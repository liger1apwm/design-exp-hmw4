{
 "cells": [
  {
   "cell_type": "code",
   "execution_count": 654,
   "metadata": {},
   "outputs": [],
   "source": [
    "import pandas as pd\n",
    "import numpy as np\n",
    "from sklearn.linear_model import LinearRegression\n",
    "import matplotlib.pyplot as plt\n",
    "import numpy as np\n",
    "from scipy import stats\n",
    "from sklearn.linear_model import LogisticRegression\n",
    "import warnings\n",
    "\n",
    "warnings.filterwarnings(\"ignore\")\n"
   ]
  },
  {
   "cell_type": "code",
   "execution_count": 655,
   "metadata": {},
   "outputs": [
    {
     "data": {
      "text/html": [
       "<div>\n",
       "<style scoped>\n",
       "    .dataframe tbody tr th:only-of-type {\n",
       "        vertical-align: middle;\n",
       "    }\n",
       "\n",
       "    .dataframe tbody tr th {\n",
       "        vertical-align: top;\n",
       "    }\n",
       "\n",
       "    .dataframe thead th {\n",
       "        text-align: right;\n",
       "    }\n",
       "</style>\n",
       "<table border=\"1\" class=\"dataframe\">\n",
       "  <thead>\n",
       "    <tr style=\"text-align: right;\">\n",
       "      <th></th>\n",
       "      <th>data id</th>\n",
       "      <th>x1</th>\n",
       "      <th>x2</th>\n",
       "      <th>x3</th>\n",
       "      <th>d</th>\n",
       "      <th>y</th>\n",
       "    </tr>\n",
       "  </thead>\n",
       "  <tbody>\n",
       "    <tr>\n",
       "      <th>0</th>\n",
       "      <td>1</td>\n",
       "      <td>0.789667</td>\n",
       "      <td>0.186084</td>\n",
       "      <td>0.601233</td>\n",
       "      <td>True</td>\n",
       "      <td>1.775711</td>\n",
       "    </tr>\n",
       "    <tr>\n",
       "      <th>1</th>\n",
       "      <td>2</td>\n",
       "      <td>0.091169</td>\n",
       "      <td>0.018968</td>\n",
       "      <td>0.602491</td>\n",
       "      <td>False</td>\n",
       "      <td>0.702007</td>\n",
       "    </tr>\n",
       "    <tr>\n",
       "      <th>2</th>\n",
       "      <td>3</td>\n",
       "      <td>0.839708</td>\n",
       "      <td>0.137707</td>\n",
       "      <td>0.439575</td>\n",
       "      <td>False</td>\n",
       "      <td>4.818743</td>\n",
       "    </tr>\n",
       "    <tr>\n",
       "      <th>3</th>\n",
       "      <td>4</td>\n",
       "      <td>0.373535</td>\n",
       "      <td>0.177271</td>\n",
       "      <td>0.419393</td>\n",
       "      <td>False</td>\n",
       "      <td>2.921435</td>\n",
       "    </tr>\n",
       "    <tr>\n",
       "      <th>4</th>\n",
       "      <td>5</td>\n",
       "      <td>0.141337</td>\n",
       "      <td>0.785985</td>\n",
       "      <td>0.140322</td>\n",
       "      <td>False</td>\n",
       "      <td>0.663376</td>\n",
       "    </tr>\n",
       "  </tbody>\n",
       "</table>\n",
       "</div>"
      ],
      "text/plain": [
       "   data id        x1        x2        x3      d         y\n",
       "0        1  0.789667  0.186084  0.601233   True  1.775711\n",
       "1        2  0.091169  0.018968  0.602491  False  0.702007\n",
       "2        3  0.839708  0.137707  0.439575  False  4.818743\n",
       "3        4  0.373535  0.177271  0.419393  False  2.921435\n",
       "4        5  0.141337  0.785985  0.140322  False  0.663376"
      ]
     },
     "execution_count": 655,
     "metadata": {},
     "output_type": "execute_result"
    }
   ],
   "source": [
    "\n",
    "hmw_data = pd.read_csv(\"./homework4.csv\")\n",
    "hmw_data = hmw_data.rename(columns={\"Unnamed: 0\":\"data id\"})\n",
    "hmw_data.head(5)"
   ]
  },
  {
   "cell_type": "code",
   "execution_count": 656,
   "metadata": {},
   "outputs": [
    {
     "data": {
      "text/html": [
       "<div>\n",
       "<style scoped>\n",
       "    .dataframe tbody tr th:only-of-type {\n",
       "        vertical-align: middle;\n",
       "    }\n",
       "\n",
       "    .dataframe tbody tr th {\n",
       "        vertical-align: top;\n",
       "    }\n",
       "\n",
       "    .dataframe thead th {\n",
       "        text-align: right;\n",
       "    }\n",
       "</style>\n",
       "<table border=\"1\" class=\"dataframe\">\n",
       "  <thead>\n",
       "    <tr style=\"text-align: right;\">\n",
       "      <th></th>\n",
       "      <th>estimator-name</th>\n",
       "      <th>mean-ATE</th>\n",
       "      <th>CI-ATE</th>\n",
       "    </tr>\n",
       "  </thead>\n",
       "  <tbody>\n",
       "    <tr>\n",
       "      <th>0</th>\n",
       "      <td>0</td>\n",
       "      <td>0</td>\n",
       "      <td>0</td>\n",
       "    </tr>\n",
       "    <tr>\n",
       "      <th>1</th>\n",
       "      <td>0</td>\n",
       "      <td>0</td>\n",
       "      <td>0</td>\n",
       "    </tr>\n",
       "    <tr>\n",
       "      <th>2</th>\n",
       "      <td>0</td>\n",
       "      <td>0</td>\n",
       "      <td>0</td>\n",
       "    </tr>\n",
       "    <tr>\n",
       "      <th>3</th>\n",
       "      <td>0</td>\n",
       "      <td>0</td>\n",
       "      <td>0</td>\n",
       "    </tr>\n",
       "    <tr>\n",
       "      <th>4</th>\n",
       "      <td>0</td>\n",
       "      <td>0</td>\n",
       "      <td>0</td>\n",
       "    </tr>\n",
       "  </tbody>\n",
       "</table>\n",
       "</div>"
      ],
      "text/plain": [
       "   estimator-name  mean-ATE  CI-ATE\n",
       "0               0         0       0\n",
       "1               0         0       0\n",
       "2               0         0       0\n",
       "3               0         0       0\n",
       "4               0         0       0"
      ]
     },
     "execution_count": 656,
     "metadata": {},
     "output_type": "execute_result"
    }
   ],
   "source": [
    "\n",
    "empty_dict = {'estimator-name': [0] * 13, 'mean-ATE': [0] * 13, 'CI-ATE': [0] * 13}\n",
    "\n",
    "est_table = pd.DataFrame(empty_dict)\n",
    "\n",
    "est_table.head(5)"
   ]
  },
  {
   "attachments": {},
   "cell_type": "markdown",
   "metadata": {},
   "source": [
    "<h3>Estimator 0</h3>"
   ]
  },
  {
   "cell_type": "code",
   "execution_count": 657,
   "metadata": {},
   "outputs": [],
   "source": [
    "#Function to run estimator 0, 1.1,1.2,2.1,2.2 easier\n",
    "\n",
    "def est_regression(data,est_type):\n",
    "    est_0_data = data\n",
    "    num_sim = 200\n",
    "    sample_size = 500\n",
    "\n",
    "    beta_arr = []\n",
    "\n",
    "    for i in range(0,num_sim,1):\n",
    "    \n",
    "            # get a sample with replacement from the DataFrame\n",
    "            sample = est_0_data.sample(n=sample_size, replace=True)\n",
    "\n",
    "            # X = hmw_data[[\"x1\",\"x2\",\"x3\",\"d\"]]\n",
    "            if(est_type == \"estimator_0\"):\n",
    "                X = sample[[\"d\"]]\n",
    "                y = sample[[\"y\"]]\n",
    "\n",
    "            elif(est_type == \"estimator_1_1\"):\n",
    "                X = sample[['d','x1','x2','x3']]\n",
    "                y = sample[[\"y\"]]\n",
    "                \n",
    "            elif(est_type == \"estimator_1_2\"):\n",
    "                X = sample[['d','x1']]\n",
    "                y = sample[[\"y\"]]\n",
    "            \n",
    "            elif(est_type == \"estimator_2_1\"):\n",
    "                \n",
    "\n",
    "                # Define the outcome variable and the covariates\n",
    "                X = sample[['x1','x2','x3']]\n",
    "                y = sample[[\"d\"]]\n",
    "\n",
    "                # Fit a logistic regression model\n",
    "                logit = LogisticRegression(solver='lbfgs', max_iter=1000)\n",
    "                logit.fit(X, y)\n",
    "\n",
    "                # Calculate the propensity score\n",
    "                y_pred = logit.predict_proba(X)[:, 1]\n",
    "\n",
    "                sample.reset_index(inplace=True)\n",
    "\n",
    "                hmw_data_new = pd.concat([sample, pd.DataFrame(y_pred, columns=['p_est_1'])], axis=1)\n",
    "                \n",
    "                X = hmw_data_new[['d','p_est_1']]\n",
    "                y = hmw_data_new[[\"y\"]]\n",
    "\n",
    "            elif(est_type == \"estimator_2_2\"):\n",
    "                # Define the outcome variable and the covariates\n",
    "                X = sample[['x1']]\n",
    "                y = sample[[\"d\"]]\n",
    "\n",
    "                # Fit a logistic regression model\n",
    "                logit = LogisticRegression(solver='lbfgs', max_iter=1000)\n",
    "                logit.fit(X, y)\n",
    "\n",
    "                # Calculate the propensity score\n",
    "                y_pred = logit.predict_proba(X)[:, 1]\n",
    "\n",
    "                sample.reset_index(inplace=True)\n",
    "\n",
    "                hmw_data_new = pd.concat([sample, pd.DataFrame(y_pred, columns=['p_est_2'])], axis=1)\n",
    "                \n",
    "\n",
    "\n",
    "\n",
    "                X = hmw_data_new[['d','p_est_2']]\n",
    "                y = hmw_data_new[[\"y\"]]\n",
    "            \n",
    "            else:\n",
    "                \n",
    "                raise ValueError(\"Please enter a good estimator type!!\")\n",
    "                 \n",
    "\n",
    "            regressor = LinearRegression()\n",
    "            regressor.fit(X, y)\n",
    "            \n",
    "            # Get the model estimates\n",
    "            coefficients = regressor.coef_\n",
    "            # intercept = regressor.intercept_\n",
    "\n",
    "            # Print the estimates\n",
    "            # print(\"Coefficients:\", coefficients)\n",
    "            # print(\"Intercept:\", intercept)\n",
    "\n",
    "            \n",
    "\n",
    "            beta_arr.append(coefficients[0][0])\n",
    "    return beta_arr"
   ]
  },
  {
   "cell_type": "code",
   "execution_count": 658,
   "metadata": {},
   "outputs": [],
   "source": [
    "#Function to calculate the ATE and CI \n",
    "def ate_ci(est_arr,est_index,est_name):\n",
    "    mean = np.mean(est_arr)\n",
    "    std_dev = np.std(est_arr)\n",
    "\n",
    "    # Calculate the standard error of the mean\n",
    "    std_error = std_dev / np.sqrt(len(est_arr))\n",
    "\n",
    "    # Calculate the t-value for a 95% confidence interval with (n-1) degrees of freedom\n",
    "    t_value = stats.t.ppf(0.975, len(est_arr)-1)\n",
    "\n",
    "    # Calculate the confidence interval\n",
    "    confidence_interval = (round(mean - t_value * std_error,4),round( mean + t_value * std_error,4))\n",
    "\n",
    "    est_table.loc[est_index,\"estimator-name\"] = est_name\n",
    "    est_table.loc[est_index,\"mean-ATE\"] = mean\n",
    "    est_table.loc[est_index,\"CI-ATE\"] = str(confidence_interval)\n",
    "\n",
    "    print(\"mean: \",mean)\n",
    "    print(\"95% Confidence Interval:\", confidence_interval)"
   ]
  },
  {
   "cell_type": "code",
   "execution_count": 659,
   "metadata": {},
   "outputs": [
    {
     "data": {
      "text/plain": [
       "200"
      ]
     },
     "execution_count": 659,
     "metadata": {},
     "output_type": "execute_result"
    }
   ],
   "source": [
    "est_0_data = hmw_data[['d','y']]\n",
    "est_0_arr = est_regression(est_0_data,\"estimator_0\")\n",
    "len(est_0_arr)"
   ]
  },
  {
   "cell_type": "code",
   "execution_count": 660,
   "metadata": {},
   "outputs": [
    {
     "name": "stdout",
     "output_type": "stream",
     "text": [
      "mean:  1.4375672824725318\n",
      "95% Confidence Interval: (1.4095, 1.4656)\n"
     ]
    }
   ],
   "source": [
    "ate_ci(est_0_arr,0,\"estimator 0\")"
   ]
  },
  {
   "cell_type": "code",
   "execution_count": 661,
   "metadata": {},
   "outputs": [
    {
     "data": {
      "text/html": [
       "<div>\n",
       "<style scoped>\n",
       "    .dataframe tbody tr th:only-of-type {\n",
       "        vertical-align: middle;\n",
       "    }\n",
       "\n",
       "    .dataframe tbody tr th {\n",
       "        vertical-align: top;\n",
       "    }\n",
       "\n",
       "    .dataframe thead th {\n",
       "        text-align: right;\n",
       "    }\n",
       "</style>\n",
       "<table border=\"1\" class=\"dataframe\">\n",
       "  <thead>\n",
       "    <tr style=\"text-align: right;\">\n",
       "      <th></th>\n",
       "      <th>estimator-name</th>\n",
       "      <th>mean-ATE</th>\n",
       "      <th>CI-ATE</th>\n",
       "    </tr>\n",
       "  </thead>\n",
       "  <tbody>\n",
       "    <tr>\n",
       "      <th>0</th>\n",
       "      <td>estimator 0</td>\n",
       "      <td>1.437567</td>\n",
       "      <td>(1.4095, 1.4656)</td>\n",
       "    </tr>\n",
       "    <tr>\n",
       "      <th>1</th>\n",
       "      <td>0</td>\n",
       "      <td>0.000000</td>\n",
       "      <td>0</td>\n",
       "    </tr>\n",
       "    <tr>\n",
       "      <th>2</th>\n",
       "      <td>0</td>\n",
       "      <td>0.000000</td>\n",
       "      <td>0</td>\n",
       "    </tr>\n",
       "    <tr>\n",
       "      <th>3</th>\n",
       "      <td>0</td>\n",
       "      <td>0.000000</td>\n",
       "      <td>0</td>\n",
       "    </tr>\n",
       "    <tr>\n",
       "      <th>4</th>\n",
       "      <td>0</td>\n",
       "      <td>0.000000</td>\n",
       "      <td>0</td>\n",
       "    </tr>\n",
       "  </tbody>\n",
       "</table>\n",
       "</div>"
      ],
      "text/plain": [
       "  estimator-name  mean-ATE            CI-ATE\n",
       "0    estimator 0  1.437567  (1.4095, 1.4656)\n",
       "1              0  0.000000                 0\n",
       "2              0  0.000000                 0\n",
       "3              0  0.000000                 0\n",
       "4              0  0.000000                 0"
      ]
     },
     "execution_count": 661,
     "metadata": {},
     "output_type": "execute_result"
    }
   ],
   "source": [
    "est_table.head(5)"
   ]
  },
  {
   "cell_type": "code",
   "execution_count": 662,
   "metadata": {},
   "outputs": [],
   "source": [
    "\n",
    "# est_0_data = hmw_data[['d','y']]\n",
    "# num_sim = 200\n",
    "# sample_size = 500\n",
    "\n",
    "# beta_arr = []\n",
    "\n",
    "# for i in range(0,num_sim,1):\n",
    " \n",
    "#         # get a sample with replacement from the DataFrame\n",
    "#         sample = est_0_data.sample(n=sample_size, replace=True)\n",
    "\n",
    "#         # X = hmw_data[[\"x1\",\"x2\",\"x3\",\"d\"]]\n",
    "#         X = sample[[\"d\"]]\n",
    "#         y = sample[[\"y\"]]\n",
    "\n",
    "#         regressor = LinearRegression()\n",
    "#         regressor.fit(X, y)\n",
    "        \n",
    "#         # Get the model estimates\n",
    "#         coefficients = regressor.coef_\n",
    "#         intercept = regressor.intercept_\n",
    "\n",
    "#         # Print the estimates\n",
    "#         # print(\"Coefficients:\", coefficients)\n",
    "#         # print(\"Intercept:\", intercept)\n",
    "\n",
    "#         beta_arr.append(coefficients[0][0])\n",
    "\n",
    "# len(beta_arr)"
   ]
  },
  {
   "cell_type": "code",
   "execution_count": 663,
   "metadata": {},
   "outputs": [],
   "source": [
    "# mean = np.mean(beta_arr)\n",
    "# std_dev = np.std(beta_arr)\n",
    "\n",
    "# # Calculate the standard error of the mean\n",
    "# std_error = std_dev / np.sqrt(len(beta_arr))\n",
    "\n",
    "# # Calculate the t-value for a 95% confidence interval with (n-1) degrees of freedom\n",
    "# t_value = stats.t.ppf(0.975, len(beta_arr)-1)\n",
    "\n",
    "# # Calculate the confidence interval\n",
    "# confidence_interval = (round(mean - t_value * std_error,4),round( mean + t_value * std_error,4))\n",
    "\n",
    "# est_table.loc[0,\"estimator-name\"] = \"estimator 0\"\n",
    "# est_table.loc[0,\"mean-ATE\"] = mean\n",
    "# est_table.loc[0,\"CI-ATE\"] = str(confidence_interval)\n",
    "\n",
    "# print(\"mean: \",mean)\n",
    "# print(\"95% Confidence Interval:\", confidence_interval)"
   ]
  },
  {
   "attachments": {},
   "cell_type": "markdown",
   "metadata": {},
   "source": [
    "<h3>Estimator 1.1</h3>"
   ]
  },
  {
   "cell_type": "code",
   "execution_count": 664,
   "metadata": {},
   "outputs": [
    {
     "data": {
      "text/plain": [
       "200"
      ]
     },
     "execution_count": 664,
     "metadata": {},
     "output_type": "execute_result"
    }
   ],
   "source": [
    "est_1_1_data = hmw_data[['x1','x2','x3','d','y']]\n",
    "est_1_1_arr = est_regression(est_1_1_data,\"estimator_1_1\")\n",
    "len(est_1_1_arr)"
   ]
  },
  {
   "cell_type": "code",
   "execution_count": 665,
   "metadata": {},
   "outputs": [
    {
     "name": "stdout",
     "output_type": "stream",
     "text": [
      "mean:  1.063886118967004\n",
      "95% Confidence Interval: (1.0354, 1.0923)\n"
     ]
    }
   ],
   "source": [
    "ate_ci(est_1_1_arr,1,\"estimator 1.1\")"
   ]
  },
  {
   "cell_type": "code",
   "execution_count": 666,
   "metadata": {},
   "outputs": [
    {
     "data": {
      "text/html": [
       "<div>\n",
       "<style scoped>\n",
       "    .dataframe tbody tr th:only-of-type {\n",
       "        vertical-align: middle;\n",
       "    }\n",
       "\n",
       "    .dataframe tbody tr th {\n",
       "        vertical-align: top;\n",
       "    }\n",
       "\n",
       "    .dataframe thead th {\n",
       "        text-align: right;\n",
       "    }\n",
       "</style>\n",
       "<table border=\"1\" class=\"dataframe\">\n",
       "  <thead>\n",
       "    <tr style=\"text-align: right;\">\n",
       "      <th></th>\n",
       "      <th>estimator-name</th>\n",
       "      <th>mean-ATE</th>\n",
       "      <th>CI-ATE</th>\n",
       "    </tr>\n",
       "  </thead>\n",
       "  <tbody>\n",
       "    <tr>\n",
       "      <th>0</th>\n",
       "      <td>estimator 0</td>\n",
       "      <td>1.437567</td>\n",
       "      <td>(1.4095, 1.4656)</td>\n",
       "    </tr>\n",
       "    <tr>\n",
       "      <th>1</th>\n",
       "      <td>estimator 1.1</td>\n",
       "      <td>1.063886</td>\n",
       "      <td>(1.0354, 1.0923)</td>\n",
       "    </tr>\n",
       "    <tr>\n",
       "      <th>2</th>\n",
       "      <td>0</td>\n",
       "      <td>0.000000</td>\n",
       "      <td>0</td>\n",
       "    </tr>\n",
       "    <tr>\n",
       "      <th>3</th>\n",
       "      <td>0</td>\n",
       "      <td>0.000000</td>\n",
       "      <td>0</td>\n",
       "    </tr>\n",
       "    <tr>\n",
       "      <th>4</th>\n",
       "      <td>0</td>\n",
       "      <td>0.000000</td>\n",
       "      <td>0</td>\n",
       "    </tr>\n",
       "  </tbody>\n",
       "</table>\n",
       "</div>"
      ],
      "text/plain": [
       "  estimator-name  mean-ATE            CI-ATE\n",
       "0    estimator 0  1.437567  (1.4095, 1.4656)\n",
       "1  estimator 1.1  1.063886  (1.0354, 1.0923)\n",
       "2              0  0.000000                 0\n",
       "3              0  0.000000                 0\n",
       "4              0  0.000000                 0"
      ]
     },
     "execution_count": 666,
     "metadata": {},
     "output_type": "execute_result"
    }
   ],
   "source": [
    "est_table.head(5)"
   ]
  },
  {
   "attachments": {},
   "cell_type": "markdown",
   "metadata": {},
   "source": [
    "<h3>Estimator 1.2</h3>"
   ]
  },
  {
   "cell_type": "code",
   "execution_count": 667,
   "metadata": {},
   "outputs": [
    {
     "data": {
      "text/plain": [
       "200"
      ]
     },
     "execution_count": 667,
     "metadata": {},
     "output_type": "execute_result"
    }
   ],
   "source": [
    "est_1_2_data = hmw_data[['d','x1','y']]\n",
    "est_1_2_arr = est_regression(est_1_2_data,\"estimator_1_2\")\n",
    "len(est_1_2_arr)"
   ]
  },
  {
   "cell_type": "code",
   "execution_count": 668,
   "metadata": {},
   "outputs": [
    {
     "name": "stdout",
     "output_type": "stream",
     "text": [
      "mean:  1.310226376624852\n",
      "95% Confidence Interval: (1.2822, 1.3382)\n"
     ]
    }
   ],
   "source": [
    "ate_ci(est_1_2_arr,2,\"estimator 1.2\")"
   ]
  },
  {
   "cell_type": "code",
   "execution_count": 669,
   "metadata": {},
   "outputs": [
    {
     "data": {
      "text/html": [
       "<div>\n",
       "<style scoped>\n",
       "    .dataframe tbody tr th:only-of-type {\n",
       "        vertical-align: middle;\n",
       "    }\n",
       "\n",
       "    .dataframe tbody tr th {\n",
       "        vertical-align: top;\n",
       "    }\n",
       "\n",
       "    .dataframe thead th {\n",
       "        text-align: right;\n",
       "    }\n",
       "</style>\n",
       "<table border=\"1\" class=\"dataframe\">\n",
       "  <thead>\n",
       "    <tr style=\"text-align: right;\">\n",
       "      <th></th>\n",
       "      <th>estimator-name</th>\n",
       "      <th>mean-ATE</th>\n",
       "      <th>CI-ATE</th>\n",
       "    </tr>\n",
       "  </thead>\n",
       "  <tbody>\n",
       "    <tr>\n",
       "      <th>0</th>\n",
       "      <td>estimator 0</td>\n",
       "      <td>1.437567</td>\n",
       "      <td>(1.4095, 1.4656)</td>\n",
       "    </tr>\n",
       "    <tr>\n",
       "      <th>1</th>\n",
       "      <td>estimator 1.1</td>\n",
       "      <td>1.063886</td>\n",
       "      <td>(1.0354, 1.0923)</td>\n",
       "    </tr>\n",
       "    <tr>\n",
       "      <th>2</th>\n",
       "      <td>estimator 1.2</td>\n",
       "      <td>1.310226</td>\n",
       "      <td>(1.2822, 1.3382)</td>\n",
       "    </tr>\n",
       "    <tr>\n",
       "      <th>3</th>\n",
       "      <td>0</td>\n",
       "      <td>0.000000</td>\n",
       "      <td>0</td>\n",
       "    </tr>\n",
       "    <tr>\n",
       "      <th>4</th>\n",
       "      <td>0</td>\n",
       "      <td>0.000000</td>\n",
       "      <td>0</td>\n",
       "    </tr>\n",
       "  </tbody>\n",
       "</table>\n",
       "</div>"
      ],
      "text/plain": [
       "  estimator-name  mean-ATE            CI-ATE\n",
       "0    estimator 0  1.437567  (1.4095, 1.4656)\n",
       "1  estimator 1.1  1.063886  (1.0354, 1.0923)\n",
       "2  estimator 1.2  1.310226  (1.2822, 1.3382)\n",
       "3              0  0.000000                 0\n",
       "4              0  0.000000                 0"
      ]
     },
     "execution_count": 669,
     "metadata": {},
     "output_type": "execute_result"
    }
   ],
   "source": [
    "est_table.head(5)"
   ]
  },
  {
   "cell_type": "code",
   "execution_count": null,
   "metadata": {},
   "outputs": [],
   "source": []
  },
  {
   "attachments": {},
   "cell_type": "markdown",
   "metadata": {},
   "source": [
    "<h3>Estimator 2.1</h3>"
   ]
  },
  {
   "cell_type": "code",
   "execution_count": 670,
   "metadata": {},
   "outputs": [
    {
     "data": {
      "text/plain": [
       "200"
      ]
     },
     "execution_count": 670,
     "metadata": {},
     "output_type": "execute_result"
    }
   ],
   "source": [
    "est_2_1_data = hmw_data[['d','x1','x2','x3','y']]\n",
    "est_2_1_arr = est_regression(est_2_1_data,\"estimator_2_1\")\n",
    "len(est_2_1_arr)"
   ]
  },
  {
   "cell_type": "code",
   "execution_count": 671,
   "metadata": {},
   "outputs": [
    {
     "name": "stdout",
     "output_type": "stream",
     "text": [
      "mean:  1.0263042878043356\n",
      "95% Confidence Interval: (0.9975, 1.0551)\n"
     ]
    }
   ],
   "source": [
    "ate_ci(est_2_1_arr,3,\"estimator 2.1\")"
   ]
  },
  {
   "cell_type": "code",
   "execution_count": 672,
   "metadata": {},
   "outputs": [
    {
     "data": {
      "text/html": [
       "<div>\n",
       "<style scoped>\n",
       "    .dataframe tbody tr th:only-of-type {\n",
       "        vertical-align: middle;\n",
       "    }\n",
       "\n",
       "    .dataframe tbody tr th {\n",
       "        vertical-align: top;\n",
       "    }\n",
       "\n",
       "    .dataframe thead th {\n",
       "        text-align: right;\n",
       "    }\n",
       "</style>\n",
       "<table border=\"1\" class=\"dataframe\">\n",
       "  <thead>\n",
       "    <tr style=\"text-align: right;\">\n",
       "      <th></th>\n",
       "      <th>estimator-name</th>\n",
       "      <th>mean-ATE</th>\n",
       "      <th>CI-ATE</th>\n",
       "    </tr>\n",
       "  </thead>\n",
       "  <tbody>\n",
       "    <tr>\n",
       "      <th>0</th>\n",
       "      <td>estimator 0</td>\n",
       "      <td>1.437567</td>\n",
       "      <td>(1.4095, 1.4656)</td>\n",
       "    </tr>\n",
       "    <tr>\n",
       "      <th>1</th>\n",
       "      <td>estimator 1.1</td>\n",
       "      <td>1.063886</td>\n",
       "      <td>(1.0354, 1.0923)</td>\n",
       "    </tr>\n",
       "    <tr>\n",
       "      <th>2</th>\n",
       "      <td>estimator 1.2</td>\n",
       "      <td>1.310226</td>\n",
       "      <td>(1.2822, 1.3382)</td>\n",
       "    </tr>\n",
       "    <tr>\n",
       "      <th>3</th>\n",
       "      <td>estimator 2.1</td>\n",
       "      <td>1.026304</td>\n",
       "      <td>(0.9975, 1.0551)</td>\n",
       "    </tr>\n",
       "    <tr>\n",
       "      <th>4</th>\n",
       "      <td>0</td>\n",
       "      <td>0.000000</td>\n",
       "      <td>0</td>\n",
       "    </tr>\n",
       "  </tbody>\n",
       "</table>\n",
       "</div>"
      ],
      "text/plain": [
       "  estimator-name  mean-ATE            CI-ATE\n",
       "0    estimator 0  1.437567  (1.4095, 1.4656)\n",
       "1  estimator 1.1  1.063886  (1.0354, 1.0923)\n",
       "2  estimator 1.2  1.310226  (1.2822, 1.3382)\n",
       "3  estimator 2.1  1.026304  (0.9975, 1.0551)\n",
       "4              0  0.000000                 0"
      ]
     },
     "execution_count": 672,
     "metadata": {},
     "output_type": "execute_result"
    }
   ],
   "source": [
    "est_table.head(5)"
   ]
  },
  {
   "attachments": {},
   "cell_type": "markdown",
   "metadata": {},
   "source": [
    "<h3>Estimator 2.2</h3>\n"
   ]
  },
  {
   "cell_type": "code",
   "execution_count": 673,
   "metadata": {},
   "outputs": [
    {
     "data": {
      "text/plain": [
       "200"
      ]
     },
     "execution_count": 673,
     "metadata": {},
     "output_type": "execute_result"
    }
   ],
   "source": [
    "est_2_2_data = hmw_data\n",
    "est_2_2_arr = est_regression(est_2_2_data,\"estimator_2_2\")\n",
    "len(est_2_2_arr)"
   ]
  },
  {
   "cell_type": "code",
   "execution_count": 674,
   "metadata": {},
   "outputs": [
    {
     "name": "stdout",
     "output_type": "stream",
     "text": [
      "mean:  1.3096376402437264\n",
      "95% Confidence Interval: (1.2839, 1.3354)\n"
     ]
    }
   ],
   "source": [
    "ate_ci(est_2_2_arr,4,\"estimator 2.2\")"
   ]
  },
  {
   "cell_type": "code",
   "execution_count": 675,
   "metadata": {},
   "outputs": [
    {
     "data": {
      "text/html": [
       "<div>\n",
       "<style scoped>\n",
       "    .dataframe tbody tr th:only-of-type {\n",
       "        vertical-align: middle;\n",
       "    }\n",
       "\n",
       "    .dataframe tbody tr th {\n",
       "        vertical-align: top;\n",
       "    }\n",
       "\n",
       "    .dataframe thead th {\n",
       "        text-align: right;\n",
       "    }\n",
       "</style>\n",
       "<table border=\"1\" class=\"dataframe\">\n",
       "  <thead>\n",
       "    <tr style=\"text-align: right;\">\n",
       "      <th></th>\n",
       "      <th>estimator-name</th>\n",
       "      <th>mean-ATE</th>\n",
       "      <th>CI-ATE</th>\n",
       "    </tr>\n",
       "  </thead>\n",
       "  <tbody>\n",
       "    <tr>\n",
       "      <th>0</th>\n",
       "      <td>estimator 0</td>\n",
       "      <td>1.437567</td>\n",
       "      <td>(1.4095, 1.4656)</td>\n",
       "    </tr>\n",
       "    <tr>\n",
       "      <th>1</th>\n",
       "      <td>estimator 1.1</td>\n",
       "      <td>1.063886</td>\n",
       "      <td>(1.0354, 1.0923)</td>\n",
       "    </tr>\n",
       "    <tr>\n",
       "      <th>2</th>\n",
       "      <td>estimator 1.2</td>\n",
       "      <td>1.310226</td>\n",
       "      <td>(1.2822, 1.3382)</td>\n",
       "    </tr>\n",
       "    <tr>\n",
       "      <th>3</th>\n",
       "      <td>estimator 2.1</td>\n",
       "      <td>1.026304</td>\n",
       "      <td>(0.9975, 1.0551)</td>\n",
       "    </tr>\n",
       "    <tr>\n",
       "      <th>4</th>\n",
       "      <td>estimator 2.2</td>\n",
       "      <td>1.309638</td>\n",
       "      <td>(1.2839, 1.3354)</td>\n",
       "    </tr>\n",
       "    <tr>\n",
       "      <th>5</th>\n",
       "      <td>0</td>\n",
       "      <td>0.000000</td>\n",
       "      <td>0</td>\n",
       "    </tr>\n",
       "  </tbody>\n",
       "</table>\n",
       "</div>"
      ],
      "text/plain": [
       "  estimator-name  mean-ATE            CI-ATE\n",
       "0    estimator 0  1.437567  (1.4095, 1.4656)\n",
       "1  estimator 1.1  1.063886  (1.0354, 1.0923)\n",
       "2  estimator 1.2  1.310226  (1.2822, 1.3382)\n",
       "3  estimator 2.1  1.026304  (0.9975, 1.0551)\n",
       "4  estimator 2.2  1.309638  (1.2839, 1.3354)\n",
       "5              0  0.000000                 0"
      ]
     },
     "execution_count": 675,
     "metadata": {},
     "output_type": "execute_result"
    }
   ],
   "source": [
    "est_table.head(6)"
   ]
  },
  {
   "attachments": {},
   "cell_type": "markdown",
   "metadata": {},
   "source": [
    "<h3>Estimator 3.1</h3>"
   ]
  },
  {
   "cell_type": "code",
   "execution_count": 676,
   "metadata": {},
   "outputs": [
    {
     "data": {
      "text/plain": [
       "200"
      ]
     },
     "execution_count": 676,
     "metadata": {},
     "output_type": "execute_result"
    }
   ],
   "source": [
    "\n",
    "num_sim = 200\n",
    "sample_size = 500\n",
    "\n",
    "est_3_1_arr = []\n",
    "\n",
    "for i in range(0,num_sim,1):\n",
    "\n",
    "        # get a sample with replacement from the DataFrame\n",
    "        sample = hmw_data.sample(n=sample_size, replace=True)\n",
    "\n",
    "        X = sample[['x1','x2','x3']]\n",
    "        y = sample[[\"d\"]]\n",
    "\n",
    "        # Fit a logistic regression model\n",
    "        logit = LogisticRegression(solver='lbfgs', max_iter=1000)\n",
    "        logit.fit(X, y)\n",
    "\n",
    "        # Calculate the propensity score\n",
    "        y_pred = logit.predict_proba(X)[:, 1]\n",
    "\n",
    "        sample.reset_index(inplace=True)\n",
    "\n",
    "        sample = pd.concat([sample, pd.DataFrame(y_pred, columns=['p_est_1'])], axis=1)\n",
    "\n",
    "        first_sum =  np.sum((sample['d']*sample['y'])/(sample['p_est_1']))\n",
    "        second_sum = np.sum(((1-sample['d'])*sample['y'])/(1-sample['p_est_1']))\n",
    "\n",
    "        treat_est_3_1 = (1/len(sample))*(first_sum-second_sum)\n",
    "        est_3_1_arr.append(treat_est_3_1)\n",
    "# np.mean(est_treat_arr)\n",
    "len(est_3_1_arr)"
   ]
  },
  {
   "cell_type": "code",
   "execution_count": 677,
   "metadata": {},
   "outputs": [
    {
     "name": "stdout",
     "output_type": "stream",
     "text": [
      "mean:  1.044446288579411\n",
      "95% Confidence Interval: (1.0164, 1.0725)\n"
     ]
    }
   ],
   "source": [
    "ate_ci(est_3_1_arr,5,\"estimator 3.1\")"
   ]
  },
  {
   "cell_type": "code",
   "execution_count": 678,
   "metadata": {},
   "outputs": [
    {
     "data": {
      "text/html": [
       "<div>\n",
       "<style scoped>\n",
       "    .dataframe tbody tr th:only-of-type {\n",
       "        vertical-align: middle;\n",
       "    }\n",
       "\n",
       "    .dataframe tbody tr th {\n",
       "        vertical-align: top;\n",
       "    }\n",
       "\n",
       "    .dataframe thead th {\n",
       "        text-align: right;\n",
       "    }\n",
       "</style>\n",
       "<table border=\"1\" class=\"dataframe\">\n",
       "  <thead>\n",
       "    <tr style=\"text-align: right;\">\n",
       "      <th></th>\n",
       "      <th>estimator-name</th>\n",
       "      <th>mean-ATE</th>\n",
       "      <th>CI-ATE</th>\n",
       "    </tr>\n",
       "  </thead>\n",
       "  <tbody>\n",
       "    <tr>\n",
       "      <th>0</th>\n",
       "      <td>estimator 0</td>\n",
       "      <td>1.437567</td>\n",
       "      <td>(1.4095, 1.4656)</td>\n",
       "    </tr>\n",
       "    <tr>\n",
       "      <th>1</th>\n",
       "      <td>estimator 1.1</td>\n",
       "      <td>1.063886</td>\n",
       "      <td>(1.0354, 1.0923)</td>\n",
       "    </tr>\n",
       "    <tr>\n",
       "      <th>2</th>\n",
       "      <td>estimator 1.2</td>\n",
       "      <td>1.310226</td>\n",
       "      <td>(1.2822, 1.3382)</td>\n",
       "    </tr>\n",
       "    <tr>\n",
       "      <th>3</th>\n",
       "      <td>estimator 2.1</td>\n",
       "      <td>1.026304</td>\n",
       "      <td>(0.9975, 1.0551)</td>\n",
       "    </tr>\n",
       "    <tr>\n",
       "      <th>4</th>\n",
       "      <td>estimator 2.2</td>\n",
       "      <td>1.309638</td>\n",
       "      <td>(1.2839, 1.3354)</td>\n",
       "    </tr>\n",
       "    <tr>\n",
       "      <th>5</th>\n",
       "      <td>estimator 3.1</td>\n",
       "      <td>1.044446</td>\n",
       "      <td>(1.0164, 1.0725)</td>\n",
       "    </tr>\n",
       "    <tr>\n",
       "      <th>6</th>\n",
       "      <td>0</td>\n",
       "      <td>0.000000</td>\n",
       "      <td>0</td>\n",
       "    </tr>\n",
       "    <tr>\n",
       "      <th>7</th>\n",
       "      <td>0</td>\n",
       "      <td>0.000000</td>\n",
       "      <td>0</td>\n",
       "    </tr>\n",
       "    <tr>\n",
       "      <th>8</th>\n",
       "      <td>0</td>\n",
       "      <td>0.000000</td>\n",
       "      <td>0</td>\n",
       "    </tr>\n",
       "    <tr>\n",
       "      <th>9</th>\n",
       "      <td>0</td>\n",
       "      <td>0.000000</td>\n",
       "      <td>0</td>\n",
       "    </tr>\n",
       "  </tbody>\n",
       "</table>\n",
       "</div>"
      ],
      "text/plain": [
       "  estimator-name  mean-ATE            CI-ATE\n",
       "0    estimator 0  1.437567  (1.4095, 1.4656)\n",
       "1  estimator 1.1  1.063886  (1.0354, 1.0923)\n",
       "2  estimator 1.2  1.310226  (1.2822, 1.3382)\n",
       "3  estimator 2.1  1.026304  (0.9975, 1.0551)\n",
       "4  estimator 2.2  1.309638  (1.2839, 1.3354)\n",
       "5  estimator 3.1  1.044446  (1.0164, 1.0725)\n",
       "6              0  0.000000                 0\n",
       "7              0  0.000000                 0\n",
       "8              0  0.000000                 0\n",
       "9              0  0.000000                 0"
      ]
     },
     "execution_count": 678,
     "metadata": {},
     "output_type": "execute_result"
    }
   ],
   "source": [
    "est_table.head(10)"
   ]
  },
  {
   "attachments": {},
   "cell_type": "markdown",
   "metadata": {},
   "source": [
    "<h3>Estimator 3.2</h3>"
   ]
  },
  {
   "cell_type": "code",
   "execution_count": 679,
   "metadata": {},
   "outputs": [
    {
     "data": {
      "text/plain": [
       "200"
      ]
     },
     "execution_count": 679,
     "metadata": {},
     "output_type": "execute_result"
    }
   ],
   "source": [
    "num_sim = 200\n",
    "sample_size = 500\n",
    "\n",
    "est_3_2_arr = []\n",
    "\n",
    "for i in range(0,num_sim,1):\n",
    "\n",
    "        # get a sample with replacement from the DataFrame\n",
    "        sample = hmw_data.sample(n=sample_size, replace=True)\n",
    "\n",
    "        X = sample[['x1']]\n",
    "        y = sample[[\"d\"]]\n",
    "\n",
    "        # Fit a logistic regression model\n",
    "        logit = LogisticRegression(solver='lbfgs', max_iter=1000)\n",
    "        logit.fit(X, y)\n",
    "\n",
    "        # Calculate the propensity score\n",
    "        y_pred = logit.predict_proba(X)[:, 1]\n",
    "\n",
    "        sample.reset_index(inplace=True)\n",
    "\n",
    "        sample = pd.concat([sample, pd.DataFrame(y_pred, columns=['p_est_2'])], axis=1)\n",
    "\n",
    "        first_sum =  np.sum((sample['d']*sample['y'])/(sample['p_est_2']))\n",
    "        second_sum = np.sum(((1-sample['d'])*sample['y'])/(1-sample['p_est_2']))\n",
    "\n",
    "        treat_est_3_2 = (1/len(sample))*(first_sum-second_sum)\n",
    "        est_3_2_arr.append(treat_est_3_2)\n",
    "# np.mean(est_treat_arr)\n",
    "len(est_3_2_arr)"
   ]
  },
  {
   "cell_type": "code",
   "execution_count": 680,
   "metadata": {},
   "outputs": [
    {
     "name": "stdout",
     "output_type": "stream",
     "text": [
      "mean:  1.302204731598819\n",
      "95% Confidence Interval: (1.2748, 1.3296)\n"
     ]
    }
   ],
   "source": [
    "ate_ci(est_3_2_arr,6,\"estimator 3.2\")"
   ]
  },
  {
   "cell_type": "code",
   "execution_count": 681,
   "metadata": {},
   "outputs": [
    {
     "data": {
      "text/html": [
       "<div>\n",
       "<style scoped>\n",
       "    .dataframe tbody tr th:only-of-type {\n",
       "        vertical-align: middle;\n",
       "    }\n",
       "\n",
       "    .dataframe tbody tr th {\n",
       "        vertical-align: top;\n",
       "    }\n",
       "\n",
       "    .dataframe thead th {\n",
       "        text-align: right;\n",
       "    }\n",
       "</style>\n",
       "<table border=\"1\" class=\"dataframe\">\n",
       "  <thead>\n",
       "    <tr style=\"text-align: right;\">\n",
       "      <th></th>\n",
       "      <th>estimator-name</th>\n",
       "      <th>mean-ATE</th>\n",
       "      <th>CI-ATE</th>\n",
       "    </tr>\n",
       "  </thead>\n",
       "  <tbody>\n",
       "    <tr>\n",
       "      <th>0</th>\n",
       "      <td>estimator 0</td>\n",
       "      <td>1.437567</td>\n",
       "      <td>(1.4095, 1.4656)</td>\n",
       "    </tr>\n",
       "    <tr>\n",
       "      <th>1</th>\n",
       "      <td>estimator 1.1</td>\n",
       "      <td>1.063886</td>\n",
       "      <td>(1.0354, 1.0923)</td>\n",
       "    </tr>\n",
       "    <tr>\n",
       "      <th>2</th>\n",
       "      <td>estimator 1.2</td>\n",
       "      <td>1.310226</td>\n",
       "      <td>(1.2822, 1.3382)</td>\n",
       "    </tr>\n",
       "    <tr>\n",
       "      <th>3</th>\n",
       "      <td>estimator 2.1</td>\n",
       "      <td>1.026304</td>\n",
       "      <td>(0.9975, 1.0551)</td>\n",
       "    </tr>\n",
       "    <tr>\n",
       "      <th>4</th>\n",
       "      <td>estimator 2.2</td>\n",
       "      <td>1.309638</td>\n",
       "      <td>(1.2839, 1.3354)</td>\n",
       "    </tr>\n",
       "    <tr>\n",
       "      <th>5</th>\n",
       "      <td>estimator 3.1</td>\n",
       "      <td>1.044446</td>\n",
       "      <td>(1.0164, 1.0725)</td>\n",
       "    </tr>\n",
       "    <tr>\n",
       "      <th>6</th>\n",
       "      <td>estimator 3.2</td>\n",
       "      <td>1.302205</td>\n",
       "      <td>(1.2748, 1.3296)</td>\n",
       "    </tr>\n",
       "    <tr>\n",
       "      <th>7</th>\n",
       "      <td>0</td>\n",
       "      <td>0.000000</td>\n",
       "      <td>0</td>\n",
       "    </tr>\n",
       "    <tr>\n",
       "      <th>8</th>\n",
       "      <td>0</td>\n",
       "      <td>0.000000</td>\n",
       "      <td>0</td>\n",
       "    </tr>\n",
       "    <tr>\n",
       "      <th>9</th>\n",
       "      <td>0</td>\n",
       "      <td>0.000000</td>\n",
       "      <td>0</td>\n",
       "    </tr>\n",
       "  </tbody>\n",
       "</table>\n",
       "</div>"
      ],
      "text/plain": [
       "  estimator-name  mean-ATE            CI-ATE\n",
       "0    estimator 0  1.437567  (1.4095, 1.4656)\n",
       "1  estimator 1.1  1.063886  (1.0354, 1.0923)\n",
       "2  estimator 1.2  1.310226  (1.2822, 1.3382)\n",
       "3  estimator 2.1  1.026304  (0.9975, 1.0551)\n",
       "4  estimator 2.2  1.309638  (1.2839, 1.3354)\n",
       "5  estimator 3.1  1.044446  (1.0164, 1.0725)\n",
       "6  estimator 3.2  1.302205  (1.2748, 1.3296)\n",
       "7              0  0.000000                 0\n",
       "8              0  0.000000                 0\n",
       "9              0  0.000000                 0"
      ]
     },
     "execution_count": 681,
     "metadata": {},
     "output_type": "execute_result"
    }
   ],
   "source": [
    "est_table.head(10)"
   ]
  },
  {
   "attachments": {},
   "cell_type": "markdown",
   "metadata": {},
   "source": [
    "<h3>Estimator 4.1</h3>"
   ]
  },
  {
   "cell_type": "code",
   "execution_count": 682,
   "metadata": {},
   "outputs": [],
   "source": [
    "import warnings\n",
    "\n",
    "warnings.filterwarnings(\"ignore\")\n",
    "\n",
    "num_sim = 200\n",
    "sample_size = 500\n",
    "\n",
    "est_4_1_arr = []\n",
    "\n",
    "for i in range(0,num_sim,1):\n",
    "\n",
    "     # get a sample with replacement from the DataFrame\n",
    "    sample = hmw_data.sample(n=sample_size, replace=True)\n",
    "\n",
    "    X = sample[['x1','x2','x3']]\n",
    "    y = sample[[\"d\"]]\n",
    "\n",
    "    # Fit a logistic regression model\n",
    "    logit = LogisticRegression(solver='lbfgs', max_iter=1000)\n",
    "    logit.fit(X, y)\n",
    "\n",
    "    # Calculate the propensity score\n",
    "    y_pred = logit.predict_proba(X)[:, 1]\n",
    "\n",
    "    sample.reset_index(inplace=True)\n",
    "\n",
    "    sample = pd.concat([sample, pd.DataFrame(y_pred, columns=['p_est_1'])], axis=1)\n",
    "\n",
    "    control_data = sample[sample['d'] == 0]\n",
    "    treat_data = sample[sample['d'] == 1]\n",
    "\n",
    "    max_p_1_ctr = max(control_data['p_est_1'])\n",
    "    max_p_1_treat = max(treat_data['p_est_1'])\n",
    "\n",
    "    min_p_1_ctr = min(control_data['p_est_1'])\n",
    "    min_p_1_treat = min(treat_data['p_est_1'])\n",
    "\n",
    "    upper_filter = min(max_p_1_treat,max_p_1_ctr)\n",
    "    lower_filter = max(min_p_1_treat,min_p_1_ctr)\n",
    "\n",
    "    hmw_data_new_2 = sample[(sample['p_est_1'] < upper_filter) & (sample['p_est_1'] > lower_filter)]\n",
    "    len(hmw_data_new_2)\n",
    "\n",
    "    # Split the dataframe into equally spaced groups\n",
    "    n_groups = 20  # number of groups\n",
    "    hmw_data_new_2['Group'] = pd.qcut(hmw_data_new_2['y'], q=n_groups, labels=False,duplicates='drop')\n",
    "    # hmw_data_new_2['Group'].unique()\n",
    "    hmw_data_new_2 = hmw_data_new_2.sort_values(by=['Group'])\n",
    "\n",
    "    single_trt_est_1 = 0\n",
    "\n",
    "    for i in range(0,20,1): \n",
    "        sub_group = hmw_data_new_2[hmw_data_new_2['Group'] == i]\n",
    "        sub_group = sub_group.reset_index()\n",
    "        # print((sub_group['d']*sub_group['y'])/(sub_group['p_est_1']))\n",
    "        first_sum =  np.sum((sub_group['d']*sub_group['y'])/(sub_group['p_est_1']))\n",
    "        \n",
    "        second_sum = np.sum(((1-sub_group['d'])*sub_group['y'])/(1-sub_group['p_est_1']))\n",
    "\n",
    "        treat_est_3_1 = (1/len(sub_group))*(first_sum-second_sum)\n",
    "        # print(treat_est_3_1)\n",
    "        single_trt_est_1 = single_trt_est_1 + (treat_est_3_1*(len(sub_group)/len(hmw_data_new_2)))\n",
    "\n",
    "    est_4_1_arr.append(single_trt_est_1)\n"
   ]
  },
  {
   "cell_type": "code",
   "execution_count": 683,
   "metadata": {},
   "outputs": [
    {
     "name": "stdout",
     "output_type": "stream",
     "text": [
      "mean:  1.015535265223918\n",
      "95% Confidence Interval: (0.9871, 1.0439)\n"
     ]
    }
   ],
   "source": [
    "ate_ci(est_4_1_arr,7,\"estimator 4.1\")"
   ]
  },
  {
   "cell_type": "code",
   "execution_count": 684,
   "metadata": {},
   "outputs": [
    {
     "data": {
      "text/html": [
       "<div>\n",
       "<style scoped>\n",
       "    .dataframe tbody tr th:only-of-type {\n",
       "        vertical-align: middle;\n",
       "    }\n",
       "\n",
       "    .dataframe tbody tr th {\n",
       "        vertical-align: top;\n",
       "    }\n",
       "\n",
       "    .dataframe thead th {\n",
       "        text-align: right;\n",
       "    }\n",
       "</style>\n",
       "<table border=\"1\" class=\"dataframe\">\n",
       "  <thead>\n",
       "    <tr style=\"text-align: right;\">\n",
       "      <th></th>\n",
       "      <th>estimator-name</th>\n",
       "      <th>mean-ATE</th>\n",
       "      <th>CI-ATE</th>\n",
       "    </tr>\n",
       "  </thead>\n",
       "  <tbody>\n",
       "    <tr>\n",
       "      <th>0</th>\n",
       "      <td>estimator 0</td>\n",
       "      <td>1.437567</td>\n",
       "      <td>(1.4095, 1.4656)</td>\n",
       "    </tr>\n",
       "    <tr>\n",
       "      <th>1</th>\n",
       "      <td>estimator 1.1</td>\n",
       "      <td>1.063886</td>\n",
       "      <td>(1.0354, 1.0923)</td>\n",
       "    </tr>\n",
       "    <tr>\n",
       "      <th>2</th>\n",
       "      <td>estimator 1.2</td>\n",
       "      <td>1.310226</td>\n",
       "      <td>(1.2822, 1.3382)</td>\n",
       "    </tr>\n",
       "    <tr>\n",
       "      <th>3</th>\n",
       "      <td>estimator 2.1</td>\n",
       "      <td>1.026304</td>\n",
       "      <td>(0.9975, 1.0551)</td>\n",
       "    </tr>\n",
       "    <tr>\n",
       "      <th>4</th>\n",
       "      <td>estimator 2.2</td>\n",
       "      <td>1.309638</td>\n",
       "      <td>(1.2839, 1.3354)</td>\n",
       "    </tr>\n",
       "    <tr>\n",
       "      <th>5</th>\n",
       "      <td>estimator 3.1</td>\n",
       "      <td>1.044446</td>\n",
       "      <td>(1.0164, 1.0725)</td>\n",
       "    </tr>\n",
       "    <tr>\n",
       "      <th>6</th>\n",
       "      <td>estimator 3.2</td>\n",
       "      <td>1.302205</td>\n",
       "      <td>(1.2748, 1.3296)</td>\n",
       "    </tr>\n",
       "    <tr>\n",
       "      <th>7</th>\n",
       "      <td>estimator 4.1</td>\n",
       "      <td>1.015535</td>\n",
       "      <td>(0.9871, 1.0439)</td>\n",
       "    </tr>\n",
       "    <tr>\n",
       "      <th>8</th>\n",
       "      <td>0</td>\n",
       "      <td>0.000000</td>\n",
       "      <td>0</td>\n",
       "    </tr>\n",
       "    <tr>\n",
       "      <th>9</th>\n",
       "      <td>0</td>\n",
       "      <td>0.000000</td>\n",
       "      <td>0</td>\n",
       "    </tr>\n",
       "    <tr>\n",
       "      <th>10</th>\n",
       "      <td>0</td>\n",
       "      <td>0.000000</td>\n",
       "      <td>0</td>\n",
       "    </tr>\n",
       "    <tr>\n",
       "      <th>11</th>\n",
       "      <td>0</td>\n",
       "      <td>0.000000</td>\n",
       "      <td>0</td>\n",
       "    </tr>\n",
       "    <tr>\n",
       "      <th>12</th>\n",
       "      <td>0</td>\n",
       "      <td>0.000000</td>\n",
       "      <td>0</td>\n",
       "    </tr>\n",
       "  </tbody>\n",
       "</table>\n",
       "</div>"
      ],
      "text/plain": [
       "   estimator-name  mean-ATE            CI-ATE\n",
       "0     estimator 0  1.437567  (1.4095, 1.4656)\n",
       "1   estimator 1.1  1.063886  (1.0354, 1.0923)\n",
       "2   estimator 1.2  1.310226  (1.2822, 1.3382)\n",
       "3   estimator 2.1  1.026304  (0.9975, 1.0551)\n",
       "4   estimator 2.2  1.309638  (1.2839, 1.3354)\n",
       "5   estimator 3.1  1.044446  (1.0164, 1.0725)\n",
       "6   estimator 3.2  1.302205  (1.2748, 1.3296)\n",
       "7   estimator 4.1  1.015535  (0.9871, 1.0439)\n",
       "8               0  0.000000                 0\n",
       "9               0  0.000000                 0\n",
       "10              0  0.000000                 0\n",
       "11              0  0.000000                 0\n",
       "12              0  0.000000                 0"
      ]
     },
     "execution_count": 684,
     "metadata": {},
     "output_type": "execute_result"
    }
   ],
   "source": [
    "est_table"
   ]
  },
  {
   "attachments": {},
   "cell_type": "markdown",
   "metadata": {},
   "source": [
    "<h3>Estimator 4.2</h3>"
   ]
  },
  {
   "cell_type": "code",
   "execution_count": 685,
   "metadata": {},
   "outputs": [],
   "source": [
    "\n",
    "\n",
    "num_sim = 200\n",
    "sample_size = 500\n",
    "\n",
    "est_4_2_arr = []\n",
    "\n",
    "for i in range(0,num_sim,1):\n",
    "\n",
    "    # get a sample with replacement from the DataFrame\n",
    "    sample = hmw_data.sample(n=sample_size, replace=True)\n",
    "\n",
    "    X = sample[['x1']]\n",
    "    y = sample[[\"d\"]]\n",
    "\n",
    "    # Fit a logistic regression model\n",
    "    logit = LogisticRegression(solver='lbfgs', max_iter=1000)\n",
    "    logit.fit(X, y)\n",
    "\n",
    "    # Calculate the propensity score\n",
    "    y_pred = logit.predict_proba(X)[:, 1]\n",
    "\n",
    "    sample.reset_index(inplace=True)\n",
    "\n",
    "    sample = pd.concat([sample, pd.DataFrame(y_pred, columns=['p_est_2'])], axis=1)\n",
    "\n",
    "    control_data = sample[sample['d'] == 0]\n",
    "    treat_data = sample[sample['d'] == 1]\n",
    "\n",
    "    max_p_1_ctr = max(control_data['p_est_2'])\n",
    "    max_p_1_treat = max(treat_data['p_est_2'])\n",
    "\n",
    "    min_p_1_ctr = min(control_data['p_est_2'])\n",
    "    min_p_1_treat = min(treat_data['p_est_2'])\n",
    "\n",
    "    upper_filter = min(max_p_1_treat,max_p_1_ctr)\n",
    "    lower_filter = max(min_p_1_treat,min_p_1_ctr)\n",
    "\n",
    "    hmw_data_new_2 = sample[(sample['p_est_2'] < upper_filter) & (sample['p_est_2'] > lower_filter)]\n",
    "    len(hmw_data_new_2)\n",
    "\n",
    "    # Split the dataframe into equally spaced groups\n",
    "    n_groups = 20  # number of groups\n",
    "    hmw_data_new_2['Group'] = pd.qcut(hmw_data_new_2['y'], q=n_groups, labels=False,duplicates='drop')\n",
    "    # hmw_data_new_2['Group'].unique()\n",
    "    hmw_data_new_2 = hmw_data_new_2.sort_values(by=['Group'])\n",
    "\n",
    "    single_trt_est_2 = 0\n",
    "\n",
    "    for i in range(0,20,1): \n",
    "        sub_group = hmw_data_new_2[hmw_data_new_2['Group'] == i]\n",
    "        sub_group = sub_group.reset_index()\n",
    "        # print((sub_group['d']*sub_group['y'])/(sub_group['p_est_1']))\n",
    "        first_sum =  np.sum((sub_group['d']*sub_group['y'])/(sub_group['p_est_2']))\n",
    "        \n",
    "        second_sum = np.sum(((1-sub_group['d'])*sub_group['y'])/(1-sub_group['p_est_2']))\n",
    "\n",
    "        treat_est_3_2 = (1/len(sub_group))*(first_sum-second_sum)\n",
    "        # print(treat_est_3_1)\n",
    "        single_trt_est_2 = single_trt_est_2 + (treat_est_3_2*(len(sub_group)/len(hmw_data_new_2)))\n",
    "\n",
    "    est_4_2_arr.append(single_trt_est_2)\n"
   ]
  },
  {
   "cell_type": "code",
   "execution_count": 686,
   "metadata": {},
   "outputs": [
    {
     "name": "stdout",
     "output_type": "stream",
     "text": [
      "mean:  1.2727242031011345\n",
      "95% Confidence Interval: (1.2438, 1.3017)\n"
     ]
    }
   ],
   "source": [
    "ate_ci(est_4_2_arr,8,\"estimator 4.2\")"
   ]
  },
  {
   "cell_type": "code",
   "execution_count": 687,
   "metadata": {},
   "outputs": [
    {
     "data": {
      "text/html": [
       "<div>\n",
       "<style scoped>\n",
       "    .dataframe tbody tr th:only-of-type {\n",
       "        vertical-align: middle;\n",
       "    }\n",
       "\n",
       "    .dataframe tbody tr th {\n",
       "        vertical-align: top;\n",
       "    }\n",
       "\n",
       "    .dataframe thead th {\n",
       "        text-align: right;\n",
       "    }\n",
       "</style>\n",
       "<table border=\"1\" class=\"dataframe\">\n",
       "  <thead>\n",
       "    <tr style=\"text-align: right;\">\n",
       "      <th></th>\n",
       "      <th>estimator-name</th>\n",
       "      <th>mean-ATE</th>\n",
       "      <th>CI-ATE</th>\n",
       "    </tr>\n",
       "  </thead>\n",
       "  <tbody>\n",
       "    <tr>\n",
       "      <th>0</th>\n",
       "      <td>estimator 0</td>\n",
       "      <td>1.437567</td>\n",
       "      <td>(1.4095, 1.4656)</td>\n",
       "    </tr>\n",
       "    <tr>\n",
       "      <th>1</th>\n",
       "      <td>estimator 1.1</td>\n",
       "      <td>1.063886</td>\n",
       "      <td>(1.0354, 1.0923)</td>\n",
       "    </tr>\n",
       "    <tr>\n",
       "      <th>2</th>\n",
       "      <td>estimator 1.2</td>\n",
       "      <td>1.310226</td>\n",
       "      <td>(1.2822, 1.3382)</td>\n",
       "    </tr>\n",
       "    <tr>\n",
       "      <th>3</th>\n",
       "      <td>estimator 2.1</td>\n",
       "      <td>1.026304</td>\n",
       "      <td>(0.9975, 1.0551)</td>\n",
       "    </tr>\n",
       "    <tr>\n",
       "      <th>4</th>\n",
       "      <td>estimator 2.2</td>\n",
       "      <td>1.309638</td>\n",
       "      <td>(1.2839, 1.3354)</td>\n",
       "    </tr>\n",
       "    <tr>\n",
       "      <th>5</th>\n",
       "      <td>estimator 3.1</td>\n",
       "      <td>1.044446</td>\n",
       "      <td>(1.0164, 1.0725)</td>\n",
       "    </tr>\n",
       "    <tr>\n",
       "      <th>6</th>\n",
       "      <td>estimator 3.2</td>\n",
       "      <td>1.302205</td>\n",
       "      <td>(1.2748, 1.3296)</td>\n",
       "    </tr>\n",
       "    <tr>\n",
       "      <th>7</th>\n",
       "      <td>estimator 4.1</td>\n",
       "      <td>1.015535</td>\n",
       "      <td>(0.9871, 1.0439)</td>\n",
       "    </tr>\n",
       "    <tr>\n",
       "      <th>8</th>\n",
       "      <td>estimator 4.2</td>\n",
       "      <td>1.272724</td>\n",
       "      <td>(1.2438, 1.3017)</td>\n",
       "    </tr>\n",
       "    <tr>\n",
       "      <th>9</th>\n",
       "      <td>0</td>\n",
       "      <td>0.000000</td>\n",
       "      <td>0</td>\n",
       "    </tr>\n",
       "    <tr>\n",
       "      <th>10</th>\n",
       "      <td>0</td>\n",
       "      <td>0.000000</td>\n",
       "      <td>0</td>\n",
       "    </tr>\n",
       "    <tr>\n",
       "      <th>11</th>\n",
       "      <td>0</td>\n",
       "      <td>0.000000</td>\n",
       "      <td>0</td>\n",
       "    </tr>\n",
       "    <tr>\n",
       "      <th>12</th>\n",
       "      <td>0</td>\n",
       "      <td>0.000000</td>\n",
       "      <td>0</td>\n",
       "    </tr>\n",
       "  </tbody>\n",
       "</table>\n",
       "</div>"
      ],
      "text/plain": [
       "   estimator-name  mean-ATE            CI-ATE\n",
       "0     estimator 0  1.437567  (1.4095, 1.4656)\n",
       "1   estimator 1.1  1.063886  (1.0354, 1.0923)\n",
       "2   estimator 1.2  1.310226  (1.2822, 1.3382)\n",
       "3   estimator 2.1  1.026304  (0.9975, 1.0551)\n",
       "4   estimator 2.2  1.309638  (1.2839, 1.3354)\n",
       "5   estimator 3.1  1.044446  (1.0164, 1.0725)\n",
       "6   estimator 3.2  1.302205  (1.2748, 1.3296)\n",
       "7   estimator 4.1  1.015535  (0.9871, 1.0439)\n",
       "8   estimator 4.2  1.272724  (1.2438, 1.3017)\n",
       "9               0  0.000000                 0\n",
       "10              0  0.000000                 0\n",
       "11              0  0.000000                 0\n",
       "12              0  0.000000                 0"
      ]
     },
     "execution_count": 687,
     "metadata": {},
     "output_type": "execute_result"
    }
   ],
   "source": [
    "est_table"
   ]
  },
  {
   "attachments": {},
   "cell_type": "markdown",
   "metadata": {},
   "source": [
    "<h3>Estimator 5.1</h3>"
   ]
  },
  {
   "cell_type": "code",
   "execution_count": 688,
   "metadata": {},
   "outputs": [
    {
     "data": {
      "text/plain": [
       "200"
      ]
     },
     "execution_count": 688,
     "metadata": {},
     "output_type": "execute_result"
    }
   ],
   "source": [
    "\n",
    "\n",
    "num_sim = 200\n",
    "sample_size = 500\n",
    "\n",
    "est_5_1_arr = []\n",
    "\n",
    "for i in range(0,num_sim,1):\n",
    "     # get a sample with replacement from the DataFrame\n",
    "    sample = hmw_data.sample(n=sample_size, replace=True)\n",
    "\n",
    "    X = sample[['x1','x2','x3']]\n",
    "    y = sample[[\"d\"]]\n",
    "\n",
    "    # Fit a logistic regression model\n",
    "    logit = LogisticRegression(solver='lbfgs', max_iter=1000)\n",
    "    logit.fit(X, y)\n",
    "\n",
    "    # Calculate the propensity score\n",
    "    y_pred = logit.predict_proba(X)[:, 1]\n",
    "\n",
    "    sample.reset_index(inplace=True)\n",
    "\n",
    "    sample = pd.concat([sample, pd.DataFrame(y_pred, columns=['p_est_1'])], axis=1)\n",
    "    weigth_1 = np.sqrt((sample['d']/sample['p_est_1'])+((1-sample['d'])/(1-sample['p_est_1'])))\n",
    "\n",
    "    X = sample[['d','x1','x2','x3']]\n",
    "    y = sample[[\"y\"]]\n",
    "\n",
    "    regressor = LinearRegression()\n",
    "    regressor.fit(X, y,sample_weight=weigth_1)\n",
    "\n",
    "    # Get the model estimates\n",
    "    coefficients = regressor.coef_\n",
    "    # intercept = regressor.intercept_\n",
    "\n",
    "    # Print the estimates\n",
    "    # print(\"Coefficients:\", coefficients)\n",
    "    # print(\"Intercept:\", intercept)\n",
    "\n",
    "    est_5_1_arr.append(coefficients[0][0])\n",
    "\n",
    "len(est_5_1_arr)"
   ]
  },
  {
   "cell_type": "code",
   "execution_count": 689,
   "metadata": {},
   "outputs": [
    {
     "name": "stdout",
     "output_type": "stream",
     "text": [
      "mean:  1.027131588528118\n",
      "95% Confidence Interval: (0.9974, 1.0569)\n"
     ]
    }
   ],
   "source": [
    "ate_ci(est_5_1_arr,9,\"estimator 5.1\")"
   ]
  },
  {
   "cell_type": "code",
   "execution_count": 690,
   "metadata": {},
   "outputs": [
    {
     "data": {
      "text/html": [
       "<div>\n",
       "<style scoped>\n",
       "    .dataframe tbody tr th:only-of-type {\n",
       "        vertical-align: middle;\n",
       "    }\n",
       "\n",
       "    .dataframe tbody tr th {\n",
       "        vertical-align: top;\n",
       "    }\n",
       "\n",
       "    .dataframe thead th {\n",
       "        text-align: right;\n",
       "    }\n",
       "</style>\n",
       "<table border=\"1\" class=\"dataframe\">\n",
       "  <thead>\n",
       "    <tr style=\"text-align: right;\">\n",
       "      <th></th>\n",
       "      <th>estimator-name</th>\n",
       "      <th>mean-ATE</th>\n",
       "      <th>CI-ATE</th>\n",
       "    </tr>\n",
       "  </thead>\n",
       "  <tbody>\n",
       "    <tr>\n",
       "      <th>0</th>\n",
       "      <td>estimator 0</td>\n",
       "      <td>1.437567</td>\n",
       "      <td>(1.4095, 1.4656)</td>\n",
       "    </tr>\n",
       "    <tr>\n",
       "      <th>1</th>\n",
       "      <td>estimator 1.1</td>\n",
       "      <td>1.063886</td>\n",
       "      <td>(1.0354, 1.0923)</td>\n",
       "    </tr>\n",
       "    <tr>\n",
       "      <th>2</th>\n",
       "      <td>estimator 1.2</td>\n",
       "      <td>1.310226</td>\n",
       "      <td>(1.2822, 1.3382)</td>\n",
       "    </tr>\n",
       "    <tr>\n",
       "      <th>3</th>\n",
       "      <td>estimator 2.1</td>\n",
       "      <td>1.026304</td>\n",
       "      <td>(0.9975, 1.0551)</td>\n",
       "    </tr>\n",
       "    <tr>\n",
       "      <th>4</th>\n",
       "      <td>estimator 2.2</td>\n",
       "      <td>1.309638</td>\n",
       "      <td>(1.2839, 1.3354)</td>\n",
       "    </tr>\n",
       "    <tr>\n",
       "      <th>5</th>\n",
       "      <td>estimator 3.1</td>\n",
       "      <td>1.044446</td>\n",
       "      <td>(1.0164, 1.0725)</td>\n",
       "    </tr>\n",
       "    <tr>\n",
       "      <th>6</th>\n",
       "      <td>estimator 3.2</td>\n",
       "      <td>1.302205</td>\n",
       "      <td>(1.2748, 1.3296)</td>\n",
       "    </tr>\n",
       "    <tr>\n",
       "      <th>7</th>\n",
       "      <td>estimator 4.1</td>\n",
       "      <td>1.015535</td>\n",
       "      <td>(0.9871, 1.0439)</td>\n",
       "    </tr>\n",
       "    <tr>\n",
       "      <th>8</th>\n",
       "      <td>estimator 4.2</td>\n",
       "      <td>1.272724</td>\n",
       "      <td>(1.2438, 1.3017)</td>\n",
       "    </tr>\n",
       "    <tr>\n",
       "      <th>9</th>\n",
       "      <td>estimator 5.1</td>\n",
       "      <td>1.027132</td>\n",
       "      <td>(0.9974, 1.0569)</td>\n",
       "    </tr>\n",
       "    <tr>\n",
       "      <th>10</th>\n",
       "      <td>0</td>\n",
       "      <td>0.000000</td>\n",
       "      <td>0</td>\n",
       "    </tr>\n",
       "    <tr>\n",
       "      <th>11</th>\n",
       "      <td>0</td>\n",
       "      <td>0.000000</td>\n",
       "      <td>0</td>\n",
       "    </tr>\n",
       "    <tr>\n",
       "      <th>12</th>\n",
       "      <td>0</td>\n",
       "      <td>0.000000</td>\n",
       "      <td>0</td>\n",
       "    </tr>\n",
       "  </tbody>\n",
       "</table>\n",
       "</div>"
      ],
      "text/plain": [
       "   estimator-name  mean-ATE            CI-ATE\n",
       "0     estimator 0  1.437567  (1.4095, 1.4656)\n",
       "1   estimator 1.1  1.063886  (1.0354, 1.0923)\n",
       "2   estimator 1.2  1.310226  (1.2822, 1.3382)\n",
       "3   estimator 2.1  1.026304  (0.9975, 1.0551)\n",
       "4   estimator 2.2  1.309638  (1.2839, 1.3354)\n",
       "5   estimator 3.1  1.044446  (1.0164, 1.0725)\n",
       "6   estimator 3.2  1.302205  (1.2748, 1.3296)\n",
       "7   estimator 4.1  1.015535  (0.9871, 1.0439)\n",
       "8   estimator 4.2  1.272724  (1.2438, 1.3017)\n",
       "9   estimator 5.1  1.027132  (0.9974, 1.0569)\n",
       "10              0  0.000000                 0\n",
       "11              0  0.000000                 0\n",
       "12              0  0.000000                 0"
      ]
     },
     "execution_count": 690,
     "metadata": {},
     "output_type": "execute_result"
    }
   ],
   "source": [
    "est_table"
   ]
  },
  {
   "attachments": {},
   "cell_type": "markdown",
   "metadata": {},
   "source": [
    "<h3>Estimator 5.2</h3>"
   ]
  },
  {
   "cell_type": "code",
   "execution_count": 691,
   "metadata": {},
   "outputs": [
    {
     "data": {
      "text/plain": [
       "200"
      ]
     },
     "execution_count": 691,
     "metadata": {},
     "output_type": "execute_result"
    }
   ],
   "source": [
    "\n",
    "\n",
    "num_sim = 200\n",
    "sample_size = 500\n",
    "\n",
    "est_5_2_arr = []\n",
    "\n",
    "for i in range(0,num_sim,1):\n",
    "    # get a sample with replacement from the DataFrame\n",
    "    sample = hmw_data.sample(n=sample_size, replace=True)\n",
    "\n",
    "    X = sample[['x1']]\n",
    "    y = sample[[\"d\"]]\n",
    "\n",
    "    # Fit a logistic regression model\n",
    "    logit = LogisticRegression(solver='lbfgs', max_iter=1000)\n",
    "    logit.fit(X, y)\n",
    "\n",
    "    # Calculate the propensity score\n",
    "    y_pred = logit.predict_proba(X)[:, 1]\n",
    "\n",
    "    sample.reset_index(inplace=True)\n",
    "\n",
    "    sample = pd.concat([sample, pd.DataFrame(y_pred, columns=['p_est_2'])], axis=1)\n",
    "    weigth_2 = np.sqrt((sample['d']/sample['p_est_2'])+((1-sample['d'])/(1-sample['p_est_2'])))\n",
    "\n",
    "    X = sample[['d','x1','x2','x3']]\n",
    "    y = sample[[\"y\"]]\n",
    "\n",
    "    regressor = LinearRegression()\n",
    "    regressor.fit(X, y,sample_weight=weigth_2)\n",
    "\n",
    "    # Get the model estimates\n",
    "    coefficients = regressor.coef_\n",
    "    # intercept = regressor.intercept_\n",
    "\n",
    "    # Print the estimates\n",
    "    # print(\"Coefficients:\", coefficients)\n",
    "    # print(\"Intercept:\", intercept)\n",
    "\n",
    "    est_5_2_arr.append(coefficients[0][0])\n",
    "\n",
    "len(est_5_2_arr)"
   ]
  },
  {
   "cell_type": "code",
   "execution_count": 692,
   "metadata": {},
   "outputs": [
    {
     "name": "stdout",
     "output_type": "stream",
     "text": [
      "mean:  1.044732976312817\n",
      "95% Confidence Interval: (1.0205, 1.069)\n"
     ]
    }
   ],
   "source": [
    "ate_ci(est_5_2_arr,10,\"estimator 5.2\")"
   ]
  },
  {
   "attachments": {},
   "cell_type": "markdown",
   "metadata": {},
   "source": [
    "<h1>Problem 1</h1>"
   ]
  },
  {
   "cell_type": "code",
   "execution_count": 693,
   "metadata": {},
   "outputs": [
    {
     "data": {
      "text/html": [
       "<div>\n",
       "<style scoped>\n",
       "    .dataframe tbody tr th:only-of-type {\n",
       "        vertical-align: middle;\n",
       "    }\n",
       "\n",
       "    .dataframe tbody tr th {\n",
       "        vertical-align: top;\n",
       "    }\n",
       "\n",
       "    .dataframe thead th {\n",
       "        text-align: right;\n",
       "    }\n",
       "</style>\n",
       "<table border=\"1\" class=\"dataframe\">\n",
       "  <thead>\n",
       "    <tr style=\"text-align: right;\">\n",
       "      <th></th>\n",
       "      <th>estimator-name</th>\n",
       "      <th>mean-ATE</th>\n",
       "      <th>CI-ATE</th>\n",
       "    </tr>\n",
       "  </thead>\n",
       "  <tbody>\n",
       "    <tr>\n",
       "      <th>0</th>\n",
       "      <td>estimator 0</td>\n",
       "      <td>1.437567</td>\n",
       "      <td>(1.4095, 1.4656)</td>\n",
       "    </tr>\n",
       "    <tr>\n",
       "      <th>1</th>\n",
       "      <td>estimator 1.1</td>\n",
       "      <td>1.063886</td>\n",
       "      <td>(1.0354, 1.0923)</td>\n",
       "    </tr>\n",
       "    <tr>\n",
       "      <th>2</th>\n",
       "      <td>estimator 1.2</td>\n",
       "      <td>1.310226</td>\n",
       "      <td>(1.2822, 1.3382)</td>\n",
       "    </tr>\n",
       "    <tr>\n",
       "      <th>3</th>\n",
       "      <td>estimator 2.1</td>\n",
       "      <td>1.026304</td>\n",
       "      <td>(0.9975, 1.0551)</td>\n",
       "    </tr>\n",
       "    <tr>\n",
       "      <th>4</th>\n",
       "      <td>estimator 2.2</td>\n",
       "      <td>1.309638</td>\n",
       "      <td>(1.2839, 1.3354)</td>\n",
       "    </tr>\n",
       "    <tr>\n",
       "      <th>5</th>\n",
       "      <td>estimator 3.1</td>\n",
       "      <td>1.044446</td>\n",
       "      <td>(1.0164, 1.0725)</td>\n",
       "    </tr>\n",
       "    <tr>\n",
       "      <th>6</th>\n",
       "      <td>estimator 3.2</td>\n",
       "      <td>1.302205</td>\n",
       "      <td>(1.2748, 1.3296)</td>\n",
       "    </tr>\n",
       "    <tr>\n",
       "      <th>7</th>\n",
       "      <td>estimator 4.1</td>\n",
       "      <td>1.015535</td>\n",
       "      <td>(0.9871, 1.0439)</td>\n",
       "    </tr>\n",
       "    <tr>\n",
       "      <th>8</th>\n",
       "      <td>estimator 4.2</td>\n",
       "      <td>1.272724</td>\n",
       "      <td>(1.2438, 1.3017)</td>\n",
       "    </tr>\n",
       "    <tr>\n",
       "      <th>9</th>\n",
       "      <td>estimator 5.1</td>\n",
       "      <td>1.027132</td>\n",
       "      <td>(0.9974, 1.0569)</td>\n",
       "    </tr>\n",
       "    <tr>\n",
       "      <th>10</th>\n",
       "      <td>estimator 5.2</td>\n",
       "      <td>1.044733</td>\n",
       "      <td>(1.0205, 1.069)</td>\n",
       "    </tr>\n",
       "    <tr>\n",
       "      <th>11</th>\n",
       "      <td>0</td>\n",
       "      <td>0.000000</td>\n",
       "      <td>0</td>\n",
       "    </tr>\n",
       "    <tr>\n",
       "      <th>12</th>\n",
       "      <td>0</td>\n",
       "      <td>0.000000</td>\n",
       "      <td>0</td>\n",
       "    </tr>\n",
       "  </tbody>\n",
       "</table>\n",
       "</div>"
      ],
      "text/plain": [
       "   estimator-name  mean-ATE            CI-ATE\n",
       "0     estimator 0  1.437567  (1.4095, 1.4656)\n",
       "1   estimator 1.1  1.063886  (1.0354, 1.0923)\n",
       "2   estimator 1.2  1.310226  (1.2822, 1.3382)\n",
       "3   estimator 2.1  1.026304  (0.9975, 1.0551)\n",
       "4   estimator 2.2  1.309638  (1.2839, 1.3354)\n",
       "5   estimator 3.1  1.044446  (1.0164, 1.0725)\n",
       "6   estimator 3.2  1.302205  (1.2748, 1.3296)\n",
       "7   estimator 4.1  1.015535  (0.9871, 1.0439)\n",
       "8   estimator 4.2  1.272724  (1.2438, 1.3017)\n",
       "9   estimator 5.1  1.027132  (0.9974, 1.0569)\n",
       "10  estimator 5.2  1.044733   (1.0205, 1.069)\n",
       "11              0  0.000000                 0\n",
       "12              0  0.000000                 0"
      ]
     },
     "execution_count": 693,
     "metadata": {},
     "output_type": "execute_result"
    }
   ],
   "source": [
    "est_table"
   ]
  },
  {
   "attachments": {},
   "cell_type": "markdown",
   "metadata": {},
   "source": [
    "<h1>Problem 2</h1>"
   ]
  },
  {
   "cell_type": "code",
   "execution_count": 694,
   "metadata": {},
   "outputs": [
    {
     "data": {
      "text/html": [
       "<div>\n",
       "<style scoped>\n",
       "    .dataframe tbody tr th:only-of-type {\n",
       "        vertical-align: middle;\n",
       "    }\n",
       "\n",
       "    .dataframe tbody tr th {\n",
       "        vertical-align: top;\n",
       "    }\n",
       "\n",
       "    .dataframe thead th {\n",
       "        text-align: right;\n",
       "    }\n",
       "</style>\n",
       "<table border=\"1\" class=\"dataframe\">\n",
       "  <thead>\n",
       "    <tr style=\"text-align: right;\">\n",
       "      <th></th>\n",
       "      <th>estimator-name</th>\n",
       "      <th>mean-ATE</th>\n",
       "      <th>CI-ATE</th>\n",
       "    </tr>\n",
       "  </thead>\n",
       "  <tbody>\n",
       "    <tr>\n",
       "      <th>0</th>\n",
       "      <td>estimator 0</td>\n",
       "      <td>1.437567</td>\n",
       "      <td>(1.4095, 1.4656)</td>\n",
       "    </tr>\n",
       "    <tr>\n",
       "      <th>1</th>\n",
       "      <td>estimator 1.1</td>\n",
       "      <td>1.063886</td>\n",
       "      <td>(1.0354, 1.0923)</td>\n",
       "    </tr>\n",
       "    <tr>\n",
       "      <th>3</th>\n",
       "      <td>estimator 2.1</td>\n",
       "      <td>1.026304</td>\n",
       "      <td>(0.9975, 1.0551)</td>\n",
       "    </tr>\n",
       "    <tr>\n",
       "      <th>5</th>\n",
       "      <td>estimator 3.1</td>\n",
       "      <td>1.044446</td>\n",
       "      <td>(1.0164, 1.0725)</td>\n",
       "    </tr>\n",
       "    <tr>\n",
       "      <th>7</th>\n",
       "      <td>estimator 4.1</td>\n",
       "      <td>1.015535</td>\n",
       "      <td>(0.9871, 1.0439)</td>\n",
       "    </tr>\n",
       "    <tr>\n",
       "      <th>9</th>\n",
       "      <td>estimator 5.1</td>\n",
       "      <td>1.027132</td>\n",
       "      <td>(0.9974, 1.0569)</td>\n",
       "    </tr>\n",
       "  </tbody>\n",
       "</table>\n",
       "</div>"
      ],
      "text/plain": [
       "  estimator-name  mean-ATE            CI-ATE\n",
       "0    estimator 0  1.437567  (1.4095, 1.4656)\n",
       "1  estimator 1.1  1.063886  (1.0354, 1.0923)\n",
       "3  estimator 2.1  1.026304  (0.9975, 1.0551)\n",
       "5  estimator 3.1  1.044446  (1.0164, 1.0725)\n",
       "7  estimator 4.1  1.015535  (0.9871, 1.0439)\n",
       "9  estimator 5.1  1.027132  (0.9974, 1.0569)"
      ]
     },
     "execution_count": 694,
     "metadata": {},
     "output_type": "execute_result"
    }
   ],
   "source": [
    "subset = est_table.loc[est_table['estimator-name'].isin(['estimator 0', 'estimator 1.1','estimator 2.1','estimator 3.1','estimator 4.1','estimator 5.1'])]\n",
    "subset"
   ]
  },
  {
   "cell_type": "code",
   "execution_count": 523,
   "metadata": {},
   "outputs": [
    {
     "data": {
      "image/png": "[encoded data removed]",
      "text/plain": [
       "<Figure size 432x288 with 1 Axes>"
      ]
     },
     "metadata": {
      "needs_background": "light"
     },
     "output_type": "display_data"
    }
   ],
   "source": [
    "\n",
    "# Plot histograms of the three distributions\n",
    "plt.hist(est_0_arr, alpha=0.5, label='Estimator 0')\n",
    "plt.hist(est_1_1_arr, alpha=0.5, label='Estimator 1.1')\n",
    "plt.hist(est_2_1_arr, alpha=0.5, label='Estimator 2.1')\n",
    "plt.hist(est_3_1_arr, alpha=0.5, label='Estimator 3.1')\n",
    "plt.hist(est_4_1_arr, alpha=0.5, label='Estimator 4.1')\n",
    "plt.hist(est_5_1_arr, alpha=0.5, label='Estimator 5.1')\n",
    "\n",
    "plt.xlabel('Value')\n",
    "plt.ylabel('Frequency')\n",
    "plt.title('Distribution Comparison')\n",
    "plt.legend(loc='upper right',bbox_to_anchor=(1.35, 1))\n",
    "plt.show()"
   ]
  },
  {
   "attachments": {},
   "cell_type": "markdown",
   "metadata": {},
   "source": [
    "all the estimators seem to be similary distributed centered closely to the true ATE of 1 and they seems to have similar n variantion and normally distributed with  the expeption of estimator 0 which looks like is centered close to 1.4. With expeception to the estimator 0, all the other estimators are really close to 1 which is the true ATE."
   ]
  },
  {
   "attachments": {},
   "cell_type": "markdown",
   "metadata": {},
   "source": [
    "<h1>Problem 3</h1>"
   ]
  },
  {
   "cell_type": "code",
   "execution_count": 524,
   "metadata": {},
   "outputs": [
    {
     "data": {
      "text/html": [
       "<div>\n",
       "<style scoped>\n",
       "    .dataframe tbody tr th:only-of-type {\n",
       "        vertical-align: middle;\n",
       "    }\n",
       "\n",
       "    .dataframe tbody tr th {\n",
       "        vertical-align: top;\n",
       "    }\n",
       "\n",
       "    .dataframe thead th {\n",
       "        text-align: right;\n",
       "    }\n",
       "</style>\n",
       "<table border=\"1\" class=\"dataframe\">\n",
       "  <thead>\n",
       "    <tr style=\"text-align: right;\">\n",
       "      <th></th>\n",
       "      <th>estimator-name</th>\n",
       "      <th>mean-ATE</th>\n",
       "      <th>CI-ATE</th>\n",
       "    </tr>\n",
       "  </thead>\n",
       "  <tbody>\n",
       "    <tr>\n",
       "      <th>0</th>\n",
       "      <td>estimator 0</td>\n",
       "      <td>1.404148</td>\n",
       "      <td>(1.3771, 1.4312)</td>\n",
       "    </tr>\n",
       "    <tr>\n",
       "      <th>2</th>\n",
       "      <td>estimator 1.2</td>\n",
       "      <td>1.302731</td>\n",
       "      <td>(1.2749, 1.3305)</td>\n",
       "    </tr>\n",
       "    <tr>\n",
       "      <th>4</th>\n",
       "      <td>estimator 2.2</td>\n",
       "      <td>1.306622</td>\n",
       "      <td>(1.28, 1.3332)</td>\n",
       "    </tr>\n",
       "    <tr>\n",
       "      <th>6</th>\n",
       "      <td>estimator 3.2</td>\n",
       "      <td>1.288637</td>\n",
       "      <td>(1.2629, 1.3144)</td>\n",
       "    </tr>\n",
       "    <tr>\n",
       "      <th>8</th>\n",
       "      <td>estimator 4.2</td>\n",
       "      <td>1.266943</td>\n",
       "      <td>(1.2388, 1.295)</td>\n",
       "    </tr>\n",
       "    <tr>\n",
       "      <th>10</th>\n",
       "      <td>estimator 5.2</td>\n",
       "      <td>1.030578</td>\n",
       "      <td>(1.0049, 1.0563)</td>\n",
       "    </tr>\n",
       "  </tbody>\n",
       "</table>\n",
       "</div>"
      ],
      "text/plain": [
       "   estimator-name  mean-ATE            CI-ATE\n",
       "0     estimator 0  1.404148  (1.3771, 1.4312)\n",
       "2   estimator 1.2  1.302731  (1.2749, 1.3305)\n",
       "4   estimator 2.2  1.306622    (1.28, 1.3332)\n",
       "6   estimator 3.2  1.288637  (1.2629, 1.3144)\n",
       "8   estimator 4.2  1.266943   (1.2388, 1.295)\n",
       "10  estimator 5.2  1.030578  (1.0049, 1.0563)"
      ]
     },
     "execution_count": 524,
     "metadata": {},
     "output_type": "execute_result"
    }
   ],
   "source": [
    "subset = est_table.loc[est_table['estimator-name'].isin(['estimator 0', 'estimator 1.2','estimator 2.2','estimator 3.2','estimator 4.2','estimator 5.2'])]\n",
    "subset"
   ]
  },
  {
   "cell_type": "code",
   "execution_count": 525,
   "metadata": {},
   "outputs": [
    {
     "data": {
      "image/png": "[encoded data removed]",
      "text/plain": [
       "<Figure size 432x288 with 1 Axes>"
      ]
     },
     "metadata": {
      "needs_background": "light"
     },
     "output_type": "display_data"
    }
   ],
   "source": [
    "# Plot histograms of the three distributions\n",
    "plt.hist(est_0_arr, alpha=0.5, label='Estimator 0')\n",
    "plt.hist(est_1_2_arr, alpha=0.5, label='Estimator 1.2')\n",
    "plt.hist(est_2_2_arr, alpha=0.5, label='Estimator 2.2')\n",
    "plt.hist(est_3_2_arr, alpha=0.5, label='Estimator 3.2')\n",
    "plt.hist(est_4_2_arr, alpha=0.5, label='Estimator 4.2')\n",
    "plt.hist(est_5_2_arr, alpha=0.5, label='Estimator 5.2')\n",
    "\n",
    "\n",
    "plt.xlabel('Value')\n",
    "plt.ylabel('Frequency')\n",
    "plt.title('Distribution Comparison')\n",
    "plt.legend(loc='upper right',bbox_to_anchor=(1.35, 1))\n",
    "plt.show()"
   ]
  },
  {
   "attachments": {},
   "cell_type": "markdown",
   "metadata": {},
   "source": [
    "almost all estimators seem to do bad and look like the are centered with mean somewhere around 1.4 with the expeption of estimator 5.2 which looks good being almost centered around the true ATE of 1. Besides estimator 5.2, all the estimators seem to have a normal distribution with similar variance. \n",
    "\n",
    "Since 5.2 is robust, it was not affected by the incorrect specification of the propensety score and we can see that in fact estimated the true mean pretty close to 1. It is a great benefit to have robust estimators that are not affected too much as long as the conditional expectation function of y is correctly specified."
   ]
  },
  {
   "attachments": {},
   "cell_type": "markdown",
   "metadata": {},
   "source": [
    "<h1>Problem 4</h1>"
   ]
  },
  {
   "attachments": {},
   "cell_type": "markdown",
   "metadata": {},
   "source": [
    "We can see, that if we dont violate the assumptions of unconfoundeness (meaning we observe all the factor that affect treatment assigment and are correlated with the potential outcom) and overlap we can get good estimators close the the TRUE ATE. Estimators 1.1,2.1,3.1,4.1,5.1,5.2 work perfectly because this assumptions are meet even though for 5.2 the propensity score is wrongfully specified, since the regression is correct then we get good estimate. For the other estimates 0,1.2,2.2,3.2,4.2 since we break the first assumption of uncounfundeness and with dont include all the variables then they fail at estimating the true ATE. "
   ]
  },
  {
   "attachments": {},
   "cell_type": "markdown",
   "metadata": {},
   "source": [
    "<h1>Problem 5</h1>"
   ]
  },
  {
   "attachments": {},
   "cell_type": "markdown",
   "metadata": {},
   "source": [
    "Estimator 4.1 without drop"
   ]
  },
  {
   "cell_type": "code",
   "execution_count": 526,
   "metadata": {},
   "outputs": [],
   "source": [
    "num_sim = 200\n",
    "sample_size = 500\n",
    "\n",
    "est_4_1_arr_no_drop = []\n",
    "\n",
    "for i in range(0,num_sim,1):\n",
    "\n",
    "     # get a sample with replacement from the DataFrame\n",
    "    sample = hmw_data.sample(n=sample_size, replace=True)\n",
    "\n",
    "    X = sample[['x1','x2','x3']]\n",
    "    y = sample[[\"d\"]]\n",
    "\n",
    "    # Fit a logistic regression model\n",
    "    logit = LogisticRegression(solver='lbfgs', max_iter=1000)\n",
    "    logit.fit(X, y)\n",
    "\n",
    "    # Calculate the propensity score\n",
    "    y_pred = logit.predict_proba(X)[:, 1]\n",
    "\n",
    "    sample.reset_index(inplace=True)\n",
    "\n",
    "    sample = pd.concat([sample, pd.DataFrame(y_pred, columns=['p_est_1'])], axis=1)\n",
    "\n",
    "    # control_data = sample[sample['d'] == 0]\n",
    "    # treat_data = sample[sample['d'] == 1]\n",
    "\n",
    "    # max_p_1_ctr = max(control_data['p_est_1'])\n",
    "    # max_p_1_treat = max(treat_data['p_est_1'])\n",
    "\n",
    "    # min_p_1_ctr = min(control_data['p_est_1'])\n",
    "    # min_p_1_treat = min(treat_data['p_est_1'])\n",
    "\n",
    "    # upper_filter = min(max_p_1_treat,max_p_1_ctr)\n",
    "    # lower_filter = max(min_p_1_treat,min_p_1_ctr)\n",
    "\n",
    "    # hmw_data_new_2 = sample[(sample['p_est_1'] < upper_filter) & (sample['p_est_1'] > lower_filter)]\n",
    "    # len(hmw_data_new_2)\n",
    "\n",
    "    hmw_data_new_2 = sample\n",
    "\n",
    "    # Split the dataframe into equally spaced groups\n",
    "    n_groups = 20  # number of groups\n",
    "    hmw_data_new_2['Group'] = pd.qcut(hmw_data_new_2['y'], q=n_groups, labels=False,duplicates='drop')\n",
    "    # hmw_data_new_2['Group'].unique()\n",
    "    hmw_data_new_2 = hmw_data_new_2.sort_values(by=['Group'])\n",
    "\n",
    "    single_trt_est_1 = 0\n",
    "\n",
    "    for i in range(0,20,1): \n",
    "        sub_group = hmw_data_new_2[hmw_data_new_2['Group'] == i]\n",
    "        sub_group = sub_group.reset_index()\n",
    "        # print((sub_group['d']*sub_group['y'])/(sub_group['p_est_1']))\n",
    "        first_sum =  np.sum((sub_group['d']*sub_group['y'])/(sub_group['p_est_1']))\n",
    "        \n",
    "        second_sum = np.sum(((1-sub_group['d'])*sub_group['y'])/(1-sub_group['p_est_1']))\n",
    "\n",
    "        treat_est_3_1 = (1/len(sub_group))*(first_sum-second_sum)\n",
    "        # print(treat_est_3_1)\n",
    "        single_trt_est_1 = single_trt_est_1 + (treat_est_3_1*(len(sub_group)/len(hmw_data_new_2)))\n",
    "\n",
    "    est_4_1_arr_no_drop.append(single_trt_est_1)"
   ]
  },
  {
   "cell_type": "code",
   "execution_count": 527,
   "metadata": {},
   "outputs": [
    {
     "name": "stdout",
     "output_type": "stream",
     "text": [
      "mean:  1.0544401469127376\n",
      "95% Confidence Interval: (1.0289, 1.08)\n"
     ]
    }
   ],
   "source": [
    "ate_ci(est_4_1_arr_no_drop,11,\"estimator 4.1 with no drop\")"
   ]
  },
  {
   "attachments": {},
   "cell_type": "markdown",
   "metadata": {},
   "source": [
    "Estimator 4.2 without drop"
   ]
  },
  {
   "cell_type": "code",
   "execution_count": 528,
   "metadata": {},
   "outputs": [],
   "source": [
    "\n",
    "num_sim = 200\n",
    "sample_size = 500\n",
    "\n",
    "est_4_2_arr_no_drop = []\n",
    "\n",
    "for i in range(0,num_sim,1):\n",
    "\n",
    "    # get a sample with replacement from the DataFrame\n",
    "    sample = hmw_data.sample(n=sample_size, replace=True)\n",
    "\n",
    "    X = sample[['x1']]\n",
    "    y = sample[[\"d\"]]\n",
    "\n",
    "    # Fit a logistic regression model\n",
    "    logit = LogisticRegression(solver='lbfgs', max_iter=1000)\n",
    "    logit.fit(X, y)\n",
    "\n",
    "    # Calculate the propensity score\n",
    "    y_pred = logit.predict_proba(X)[:, 1]\n",
    "\n",
    "    sample.reset_index(inplace=True)\n",
    "\n",
    "    sample = pd.concat([sample, pd.DataFrame(y_pred, columns=['p_est_2'])], axis=1)\n",
    "\n",
    "    # control_data = sample[sample['d'] == 0]\n",
    "    # treat_data = sample[sample['d'] == 1]\n",
    "\n",
    "    # max_p_1_ctr = max(control_data['p_est_2'])\n",
    "    # max_p_1_treat = max(treat_data['p_est_2'])\n",
    "\n",
    "    # min_p_1_ctr = min(control_data['p_est_2'])\n",
    "    # min_p_1_treat = min(treat_data['p_est_2'])\n",
    "\n",
    "    # upper_filter = min(max_p_1_treat,max_p_1_ctr)\n",
    "    # lower_filter = max(min_p_1_treat,min_p_1_ctr)\n",
    "\n",
    "    # hmw_data_new_2 = sample[(sample['p_est_2'] < upper_filter) & (sample['p_est_2'] > lower_filter)]\n",
    "    # len(hmw_data_new_2)\n",
    "\n",
    "    hmw_data_new_2 = sample\n",
    "\n",
    "    # Split the dataframe into equally spaced groups\n",
    "    n_groups = 20  # number of groups\n",
    "    hmw_data_new_2['Group'] = pd.qcut(hmw_data_new_2['y'], q=n_groups, labels=False,duplicates='drop')\n",
    "    # hmw_data_new_2['Group'].unique()\n",
    "    hmw_data_new_2 = hmw_data_new_2.sort_values(by=['Group'])\n",
    "\n",
    "    single_trt_est_2 = 0\n",
    "\n",
    "    for i in range(0,20,1): \n",
    "        sub_group = hmw_data_new_2[hmw_data_new_2['Group'] == i]\n",
    "        sub_group = sub_group.reset_index()\n",
    "        # print((sub_group['d']*sub_group['y'])/(sub_group['p_est_1']))\n",
    "        first_sum =  np.sum((sub_group['d']*sub_group['y'])/(sub_group['p_est_2']))\n",
    "        \n",
    "        second_sum = np.sum(((1-sub_group['d'])*sub_group['y'])/(1-sub_group['p_est_2']))\n",
    "\n",
    "        treat_est_3_2 = (1/len(sub_group))*(first_sum-second_sum)\n",
    "        # print(treat_est_3_1)\n",
    "        single_trt_est_2 = single_trt_est_2 + (treat_est_3_2*(len(sub_group)/len(hmw_data_new_2)))\n",
    "\n",
    "    est_4_2_arr_no_drop.append(single_trt_est_2)\n"
   ]
  },
  {
   "cell_type": "code",
   "execution_count": 529,
   "metadata": {},
   "outputs": [
    {
     "name": "stdout",
     "output_type": "stream",
     "text": [
      "mean:  1.3005687249358022\n",
      "95% Confidence Interval: (1.2763, 1.3249)\n"
     ]
    }
   ],
   "source": [
    "ate_ci(est_4_2_arr_no_drop,12,\"estimator 4.2 with no drop\")"
   ]
  },
  {
   "cell_type": "code",
   "execution_count": 530,
   "metadata": {},
   "outputs": [
    {
     "data": {
      "text/html": [
       "<div>\n",
       "<style scoped>\n",
       "    .dataframe tbody tr th:only-of-type {\n",
       "        vertical-align: middle;\n",
       "    }\n",
       "\n",
       "    .dataframe tbody tr th {\n",
       "        vertical-align: top;\n",
       "    }\n",
       "\n",
       "    .dataframe thead th {\n",
       "        text-align: right;\n",
       "    }\n",
       "</style>\n",
       "<table border=\"1\" class=\"dataframe\">\n",
       "  <thead>\n",
       "    <tr style=\"text-align: right;\">\n",
       "      <th></th>\n",
       "      <th>estimator-name</th>\n",
       "      <th>mean-ATE</th>\n",
       "      <th>CI-ATE</th>\n",
       "    </tr>\n",
       "  </thead>\n",
       "  <tbody>\n",
       "    <tr>\n",
       "      <th>0</th>\n",
       "      <td>estimator 0</td>\n",
       "      <td>1.404148</td>\n",
       "      <td>(1.3771, 1.4312)</td>\n",
       "    </tr>\n",
       "    <tr>\n",
       "      <th>1</th>\n",
       "      <td>estimator 1.1</td>\n",
       "      <td>1.059349</td>\n",
       "      <td>(1.0319, 1.0868)</td>\n",
       "    </tr>\n",
       "    <tr>\n",
       "      <th>2</th>\n",
       "      <td>estimator 1.2</td>\n",
       "      <td>1.302731</td>\n",
       "      <td>(1.2749, 1.3305)</td>\n",
       "    </tr>\n",
       "    <tr>\n",
       "      <th>3</th>\n",
       "      <td>estimator 2.1</td>\n",
       "      <td>1.059508</td>\n",
       "      <td>(1.0297, 1.0893)</td>\n",
       "    </tr>\n",
       "    <tr>\n",
       "      <th>4</th>\n",
       "      <td>estimator 2.2</td>\n",
       "      <td>1.306622</td>\n",
       "      <td>(1.28, 1.3332)</td>\n",
       "    </tr>\n",
       "    <tr>\n",
       "      <th>5</th>\n",
       "      <td>estimator 3.1</td>\n",
       "      <td>1.007698</td>\n",
       "      <td>(0.9809, 1.0345)</td>\n",
       "    </tr>\n",
       "    <tr>\n",
       "      <th>6</th>\n",
       "      <td>estimator 3.2</td>\n",
       "      <td>1.288637</td>\n",
       "      <td>(1.2629, 1.3144)</td>\n",
       "    </tr>\n",
       "    <tr>\n",
       "      <th>7</th>\n",
       "      <td>estimator 4.1</td>\n",
       "      <td>1.031351</td>\n",
       "      <td>(1.0046, 1.0581)</td>\n",
       "    </tr>\n",
       "    <tr>\n",
       "      <th>8</th>\n",
       "      <td>estimator 4.2</td>\n",
       "      <td>1.266943</td>\n",
       "      <td>(1.2388, 1.295)</td>\n",
       "    </tr>\n",
       "    <tr>\n",
       "      <th>9</th>\n",
       "      <td>estimator 5.1</td>\n",
       "      <td>1.038174</td>\n",
       "      <td>(1.009, 1.0673)</td>\n",
       "    </tr>\n",
       "    <tr>\n",
       "      <th>10</th>\n",
       "      <td>estimator 5.2</td>\n",
       "      <td>1.030578</td>\n",
       "      <td>(1.0049, 1.0563)</td>\n",
       "    </tr>\n",
       "    <tr>\n",
       "      <th>11</th>\n",
       "      <td>estimator 4.1 with no drop</td>\n",
       "      <td>1.054440</td>\n",
       "      <td>(1.0289, 1.08)</td>\n",
       "    </tr>\n",
       "    <tr>\n",
       "      <th>12</th>\n",
       "      <td>estimator 4.2 with no drop</td>\n",
       "      <td>1.300569</td>\n",
       "      <td>(1.2763, 1.3249)</td>\n",
       "    </tr>\n",
       "  </tbody>\n",
       "</table>\n",
       "</div>"
      ],
      "text/plain": [
       "                estimator-name  mean-ATE            CI-ATE\n",
       "0                  estimator 0  1.404148  (1.3771, 1.4312)\n",
       "1                estimator 1.1  1.059349  (1.0319, 1.0868)\n",
       "2                estimator 1.2  1.302731  (1.2749, 1.3305)\n",
       "3                estimator 2.1  1.059508  (1.0297, 1.0893)\n",
       "4                estimator 2.2  1.306622    (1.28, 1.3332)\n",
       "5                estimator 3.1  1.007698  (0.9809, 1.0345)\n",
       "6                estimator 3.2  1.288637  (1.2629, 1.3144)\n",
       "7                estimator 4.1  1.031351  (1.0046, 1.0581)\n",
       "8                estimator 4.2  1.266943   (1.2388, 1.295)\n",
       "9                estimator 5.1  1.038174   (1.009, 1.0673)\n",
       "10               estimator 5.2  1.030578  (1.0049, 1.0563)\n",
       "11  estimator 4.1 with no drop  1.054440    (1.0289, 1.08)\n",
       "12  estimator 4.2 with no drop  1.300569  (1.2763, 1.3249)"
      ]
     },
     "execution_count": 530,
     "metadata": {},
     "output_type": "execute_result"
    }
   ],
   "source": [
    "est_table"
   ]
  },
  {
   "attachments": {},
   "cell_type": "markdown",
   "metadata": {},
   "source": [
    "We can see that when we remove the overlapping restriction for estimator 4.1 is increased the ATE and the CI is wider and for 4.2 is almost similar than before. When we remove the restriction we are supposed to see an increment in the variance but due to the way the dataset is simulated we dont see it too much. Not having the overlapping restriction is bad since we are not cutting the  places on where the distribution of the propensety scores for the control and the treatment dont have something to compare to meaning is either just control or just treatment. This is dangarous because introduce more variance to our data and damage our estimator."
   ]
  }
 ],
 "metadata": {
  "kernelspec": {
   "display_name": "base",
   "language": "python",
   "name": "python3"
  },
  "language_info": {
   "codemirror_mode": {
    "name": "ipython",
    "version": 3
   },
   "file_extension": ".py",
   "mimetype": "text/x-python",
   "name": "python",
   "nbconvert_exporter": "python",
   "pygments_lexer": "ipython3",
   "version": "3.9.12"
  },
  "orig_nbformat": 4
 },
 "nbformat": 4,
 "nbformat_minor": 2
}
